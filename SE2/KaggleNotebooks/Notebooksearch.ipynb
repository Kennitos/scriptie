{
 "cells": [
  {
   "cell_type": "markdown",
   "metadata": {
    "toc": true
   },
   "source": [
    "<h1>Table of Contents<span class=\"tocSkip\"></span></h1>\n",
    "<div class=\"toc\"><ul class=\"toc-item\"><li><span><a href=\"#Notebooksearch-engine\" data-toc-modified-id=\"Notebooksearch-engine-1\"><span class=\"toc-item-num\">1&nbsp;&nbsp;</span>Notebooksearch engine</a></span><ul class=\"toc-item\"><li><span><a href=\"#Downloading-kaggle-notebooks\" data-toc-modified-id=\"Downloading-kaggle-notebooks-1.1\"><span class=\"toc-item-num\">1.1&nbsp;&nbsp;</span>Downloading kaggle notebooks</a></span><ul class=\"toc-item\"><li><span><a href=\"#3-Steps\" data-toc-modified-id=\"3-Steps-1.1.1\"><span class=\"toc-item-num\">1.1.1&nbsp;&nbsp;</span>3 Steps</a></span></li><li><span><a href=\"#result\" data-toc-modified-id=\"result-1.1.2\"><span class=\"toc-item-num\">1.1.2&nbsp;&nbsp;</span>result</a></span></li></ul></li></ul></li></ul></div>"
   ]
  },
  {
   "cell_type": "markdown",
   "metadata": {},
   "source": [
    "# Notebooksearch engine\n",
    "\n",
    "* Create a dedicated search engine for Jupyter notebooks.\n",
    "* Use ideas from source code search engines and from XML search for ranking, probably even images should be handled correctly."
   ]
  },
  {
   "cell_type": "code",
   "execution_count": 1,
   "metadata": {},
   "outputs": [],
   "source": [
    "import pandas as pd"
   ]
  },
  {
   "cell_type": "markdown",
   "metadata": {},
   "source": [
    "## Downloading kaggle notebooks\n",
    "\n",
    "We use the Kaggle API, see <https://www.kaggle.com/docs/api#interacting-with-kernels>\n",
    "\n",
    "### 3 Steps\n",
    "\n",
    "1. Download metadat as csv files per page\n",
    "2. Concate them to a dataframe\n",
    "3. download each notebook\n",
    "\n",
    "### result\n",
    "\n",
    "* A meagre 1058 notebooks could be downloaded through the API."
   ]
  },
  {
   "cell_type": "code",
   "execution_count": 67,
   "metadata": {},
   "outputs": [
    {
     "name": "stdout",
     "output_type": "stream",
     "text": [
      "-rw-r--r--  1 admin  staff    17B May 16 17:59 /Users/admin/Documents/work/onderwijs/teaching/DataScience/Data/KaggleNoteBooks/kaggle_12.csv\r\n"
     ]
    }
   ],
   "source": [
    "#  downloading metadata\n",
    "# Creating a list of metadata about all Kaggle notebooks\n",
    "# We download pages of 100 hits (maximum) from PageStart to PageEnd\n",
    "PageStart=12\n",
    "PageEnd=13\n",
    "Notebooks= []\n",
    "for p in range(PageStart,PageEnd):\n",
    "    path= !pwd\n",
    "    f= path[0]+'/KaggleNoteBooks/kaggle_'+str(p)+'.csv'\n",
    "    !kaggle kernels list -p $p -v --page-size 100 >$f\n",
    "    !ls -lh $f\n",
    "    Notebooks.append(f)\n",
    " "
   ]
  },
  {
   "cell_type": "code",
   "execution_count": 68,
   "metadata": {},
   "outputs": [
    {
     "name": "stdout",
     "output_type": "stream",
     "text": [
      "(0, 1)\n"
     ]
    },
    {
     "data": {
      "text/html": [
       "<div>\n",
       "<style scoped>\n",
       "    .dataframe tbody tr th:only-of-type {\n",
       "        vertical-align: middle;\n",
       "    }\n",
       "\n",
       "    .dataframe tbody tr th {\n",
       "        vertical-align: top;\n",
       "    }\n",
       "\n",
       "    .dataframe thead th {\n",
       "        text-align: right;\n",
       "    }\n",
       "</style>\n",
       "<table border=\"1\" class=\"dataframe\">\n",
       "  <thead>\n",
       "    <tr style=\"text-align: right;\">\n",
       "      <th></th>\n",
       "      <th>No kernels found</th>\n",
       "    </tr>\n",
       "  </thead>\n",
       "  <tbody>\n",
       "  </tbody>\n",
       "</table>\n",
       "</div>"
      ],
      "text/plain": [
       "Empty DataFrame\n",
       "Columns: [No kernels found]\n",
       "Index: []"
      ]
     },
     "execution_count": 68,
     "metadata": {},
     "output_type": "execute_result"
    }
   ],
   "source": [
    "\n",
    "# reading metadata as dataframe   \n",
    "df= pd.concat([pd.read_csv(f) for f in Notebooks ])\n",
    "print(df.shape)\n",
    "df.head()"
   ]
  },
  {
   "cell_type": "code",
   "execution_count": 65,
   "metadata": {},
   "outputs": [
    {
     "name": "stdout",
     "output_type": "stream",
     "text": [
      "    1058    1058   42004\n",
      "CPU times: user 15.7 s, sys: 7.5 s, total: 23.2 s\n",
      "Wall time: 11min 12s\n"
     ]
    }
   ],
   "source": [
    "%%time \n",
    "NoteBookFolder= 'NoteBooks'\n",
    "#!mkdir KaggleNoteBooks/$NoteBookFolder\n",
    "\n",
    "# downloading all notebooks from df\n",
    "\n",
    "for notebook in df.ref.values:\n",
    "    !kaggle kernels pull $notebook -p KaggleNoteBooks/$NoteBookFolder &>/dev/null\n",
    "\n",
    "# test\n",
    "\n",
    "!ls KaggleNoteBooks/$NoteBookFolder |wc"
   ]
  },
  {
   "cell_type": "code",
   "execution_count": 66,
   "metadata": {},
   "outputs": [
    {
     "name": "stdout",
     "output_type": "stream",
     "text": [
      "    1058    1058   42004\n",
      " 54M\tKaggleNoteBooks/NoteBooks\n"
     ]
    }
   ],
   "source": [
    "!ls KaggleNoteBooks/$NoteBookFolder |wc\n",
    "!du -h KaggleNoteBooks/$NoteBookFolder"
   ]
  },
  {
   "cell_type": "code",
   "execution_count": null,
   "metadata": {},
   "outputs": [],
   "source": []
  }
 ],
 "metadata": {
  "kernelspec": {
   "display_name": "Python 3",
   "language": "python",
   "name": "python3"
  },
  "language_info": {
   "codemirror_mode": {
    "name": "ipython",
    "version": 3
   },
   "file_extension": ".py",
   "mimetype": "text/x-python",
   "name": "python",
   "nbconvert_exporter": "python",
   "pygments_lexer": "ipython3",
   "version": "3.6.3"
  },
  "toc": {
   "nav_menu": {},
   "number_sections": true,
   "sideBar": true,
   "skip_h1_title": false,
   "title_cell": "Table of Contents",
   "title_sidebar": "Contents",
   "toc_cell": true,
   "toc_position": {},
   "toc_section_display": true,
   "toc_window_display": false
  }
 },
 "nbformat": 4,
 "nbformat_minor": 2
}
