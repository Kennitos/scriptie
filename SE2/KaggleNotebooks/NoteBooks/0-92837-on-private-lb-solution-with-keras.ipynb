{
 "cells": [
  {
   "cell_type": "markdown",
   "metadata": {
    "_cell_guid": "d4799295-64c0-3538-c3c3-cd5b3f52bf13",
    "_uuid": "b9244f1d8b07ffe9148d545b58f2426593df9748"
   },
   "source": [
    "# Planet: Understanding the Amazon deforestation from Space challenge"
   ]
  },
  {
   "cell_type": "markdown",
   "metadata": {
    "_cell_guid": "f483290a-1bf4-d6c3-2ec9-af841b1d983d",
    "_uuid": "68469ae5d0ef838aa752c52bcdb474f5149cc007"
   },
   "source": [
    "> The repo has been updated on 21-07-2017 with the latest code which allowed us to reach position 127 on the private LB with a score of 0.92837 (the 1st competitor has `0.93318`). It's far from being the best one but as it's our first kernel we're still proud of it. This competition was an amazing experience. Thanks everyone.\n",
    "\n",
    "Special thanks to the kernel contributors of this challenge (especially @anokas and @Kaggoo) who helped us find a starting point for this notebook.\n",
    "\n",
    "### The Kaggle online editor has some trouble displaying the content and the external files accompanying the notebook cannot be added. The whole code is available on github [here](https://github.com/EKami/planet-amazon-deforestation) . As for the notebook you'll need to generate it if you want to see it with the latest updates (See the `Readme.md` on the github). You can get a (not always up to date) preview of the notebook [here](https://gist.github.com/EKami/33ec0172590ab9f2e3a6b757c9f9dcb4)\n",
    "### If you found this notebook useful some upvotes would be greatly appreciated! :)"
   ]
  }
 ],
 "metadata": {
  "_change_revision": 0,
  "_is_fork": false,
  "kernelspec": {
   "display_name": "Python 3",
   "language": "python",
   "name": "python3"
  },
  "language_info": {
   "codemirror_mode": {
    "name": "ipython",
    "version": 3
   },
   "file_extension": ".py",
   "mimetype": "text/x-python",
   "name": "python",
   "nbconvert_exporter": "python",
   "pygments_lexer": "ipython3",
   "version": "3.7.4"
  }
 },
 "nbformat": 4,
 "nbformat_minor": 1
}
