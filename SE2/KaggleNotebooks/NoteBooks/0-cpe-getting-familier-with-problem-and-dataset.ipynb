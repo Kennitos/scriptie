{
 "cells": [
  {
   "cell_type": "markdown",
   "metadata": {
    "_uuid": "db6c28127468f899b61960ff0e4a52dab28ad8b6"
   },
   "source": [
    "# <font color=\"#703bdb\">Part 0. Getting Familier with the Dataset - CPE </font> <hr>\n",
    "\n",
    "<a href=\"http://policingequity.org/\">Center of Policing Equity</a> is a research and action think tank that works collaboratively with law enforcement, communities, and political stakeholders to identify ways to strengthen relationships with the communities they serve. CPE is also the home of the nation’s first and largest <a href=\"http://policingequity.org/national-justice-database/\">database</a> tracking national statistics on police behavior. \n",
    "\n",
    "The main aim of CPE is to bridge the divide created by communication problems, suffering and generational mistrust, and forge a path towards public safety, community trust, and racial equity. This kernel series is my contribution to the <a href=\"https://www.kaggle.com/center-for-policing-equity/data-science-for-good\">Data Science for Good: Center for Policing Equity</a>. The contribution is focused on providing a generic, robust, and automated approach to integrate, standardize the data and further diagnose disparities in policing, shed light on police behavior, and provide actionable recommendations. \n",
    "\n",
    "### <font color=\"#703bdb\">Main Submission: </font>\n",
    "\n",
    "<ul>\n",
    "    <li><a href=\"https://www.kaggle.com/shivamb/1-solution-workflow-science-of-policing-equity/\">Part 1: Solution Workflow - The Science of Policing Equity </a>  </li>\n",
    "    <li><a href=\"https://www.kaggle.com/shivamb/2-automation-pipeline-integration-processing\">Part 2: Data Integration and Processing : Automation Pipeline</a>  </li>\n",
    "    <li><a href=\"https://www.kaggle.com/shivamb/3-example-runs-of-automation-pipeline\">Part 3: Example Runs of Automation Pipeline </a>  </li> \n",
    "    <li><a href=\"https://www.kaggle.com/shivamb/4-1-analysis-report-minneapolis-24-00013\">Part 4.1: Analysis Report - Measuring Equity - Minneapolis Police Department </a>   </li>\n",
    "    <li><a href=\"https://www.kaggle.com/shivamb/4-2-analysis-report-lapd-49-00033\">Part 4.2: Analysis Report - Los Angles Police Department (49-00033) </a>   </li>\n",
    "    <li><a href=\"https://www.kaggle.com/shivamb/4-3-analysis-report-officer-level-analysis\">Part 4.3: Analysis Report - Indianapolis Officer Level Analysis (23-00089) </a>   </li></ul>\n",
    "\n",
    "The complete overview of the solution is shared in the *first kernel*. It explains the process and flow of automation, standardization, processing, and analysis of data. In the *second kernel*, the first component of the solution pipeline : data integration and processing is implemented. It processes both core level data as well as department level data. In the *third kernel*, this pipeline is executed and run for several departments. After all the standardized and clean data is produced, it is analysed with different formats of the Analysis Framework in 4.1, 4.2 and 4.3 kernels. In *kernel 4.1*, core analysis is done along with link with crime rate and poverty data. In *kernel 4.2*, core analysis is done along with statistical analysis. In *kernel 4.3*, officer level analysis is done. \n",
    "\n",
    "<hr>\n",
    "\n",
    "## About this Kernel : \n",
    "\n",
    "This kernel is just a starter kernel that aims to provide understanding of the data and unearth the hidden insights from the data shared. First part is a quick exploration of the shared data and the next part is the complete GIS analysis. Lets Load the required libraries first. "
   ]
  },
  {
   "cell_type": "code",
   "execution_count": null,
   "metadata": {
    "_cell_guid": "b1076dfc-b9ad-4769-8c92-a6c4dae69d19",
    "_kg_hide-input": true,
    "_uuid": "8f2839f25d086af736a60e9eeb907d3b93b6e0e5"
   },
   "outputs": [],
   "source": [
    "import numpy as np \n",
    "import pandas as pd \n",
    "import folium\n",
    "from folium import plugins\n",
    "from io import StringIO\n",
    "import geopandas as gpd\n",
    "from pprint import pprint \n",
    "from plotly.offline import init_notebook_mode, iplot\n",
    "import plotly.graph_objs as go\n",
    "import plotly.plotly as py\n",
    "from plotly import tools\n",
    "import plotly.figure_factory as ff\n",
    "import matplotlib.pyplot as plt\n",
    "import seaborn as sns\n",
    "import os \n",
    "init_notebook_mode(connected=True)"
   ]
  },
  {
   "cell_type": "markdown",
   "metadata": {
    "_uuid": "cb665d3d1d55c6ae86139ffdbb38de1dd38612b7"
   },
   "source": [
    "### About Dataset : Department Files\n",
    "\n",
    "The dataset consists of different data files for different police deparments. Lets quickly look at those department names. "
   ]
  },
  {
   "cell_type": "code",
   "execution_count": null,
   "metadata": {
    "_kg_hide-input": true,
    "_uuid": "072b84e6929adb2c8d209e5bca6700406bbad96d"
   },
   "outputs": [],
   "source": [
    "depts = [f for f in os.listdir(\"../input/cpe-data/\") if f.startswith(\"Dept\")]\n",
    "pprint(depts)"
   ]
  },
  {
   "cell_type": "markdown",
   "metadata": {
    "_uuid": "71f8e150bd201b4fe9ac180ecd35395957af507f"
   },
   "source": [
    "### About Dataset : Different Data Files for Police Departments\n",
    "\n",
    "Among different departments, different files are shared corresponding to different data files, such as Education, Race, Poverty etc. Lets have a look"
   ]
  },
  {
   "cell_type": "code",
   "execution_count": null,
   "metadata": {
    "_kg_hide-input": true,
    "_uuid": "eb90e84752c3a1afbd92fecaf098590bd5b784e7"
   },
   "outputs": [],
   "source": [
    "files = os.listdir(\"../input/cpe-data/Dept_23-00089/23-00089_ACS_data/\")\n",
    "files"
   ]
  },
  {
   "cell_type": "markdown",
   "metadata": {
    "_uuid": "eb7605839b870a763599c315805c80468efa18b3"
   },
   "source": [
    "Now, lets start exploring these data files. \n",
    "\n",
    "### Department : Dept_23-00089, Metric : Race, Sex, Age\n",
    "\n",
    "Lets load the dataset"
   ]
  },
  {
   "cell_type": "code",
   "execution_count": null,
   "metadata": {
    "_kg_hide-input": true,
    "_uuid": "79c80293614f7ccdea108e1942823669d5f23fd3"
   },
   "outputs": [],
   "source": [
    "basepath = \"../input/cpe-data/Dept_23-00089/23-00089_ACS_data/23-00089_ACS_race-sex-age/\"\n",
    "rca_df = pd.read_csv(basepath + \"ACS_15_5YR_DP05_with_ann.csv\")\n",
    "rca_df.head()"
   ]
  },
  {
   "cell_type": "markdown",
   "metadata": {
    "_uuid": "aa8dcf97e2f75123b89452f355580d00cf589d02"
   },
   "source": [
    "The meanings of columns is given in an another file. Here is the description of all the columns used in the avove dataset. "
   ]
  },
  {
   "cell_type": "code",
   "execution_count": null,
   "metadata": {
    "_kg_hide-input": true,
    "_uuid": "ec838d2b2cc3b2b69dcca47428f3e06b259d855a"
   },
   "outputs": [],
   "source": [
    "a_df = pd.read_csv(basepath + \"ACS_15_5YR_DP05_metadata.csv\")\n",
    "\n",
    "# for j, y in a_df.iterrows():\n",
    "#     if y['Id'].startswith(\"Estimate\"):\n",
    "#         print (y['GEO.id'], y['Id'])\n",
    "\n",
    "a_df.head()"
   ]
  },
  {
   "cell_type": "markdown",
   "metadata": {
    "_uuid": "340965bcb0f39bc8230f7e965f1b8e6c1a80bf8a"
   },
   "source": [
    "So there are coluns about Estimate, Margin of Error, Percent related to Sex, Age, Race, and Total Population. Lets start exploring these variables. \n",
    "\n",
    "### Distribution of Total Population across Census Tracts\n",
    "\n",
    "<br>\n",
    "\n",
    "**Census Tracts:** \n",
    "Census tracts (CTs) are small, relatively stable geographic areas that usually have a population between 2,500 and 8,000 persons. They are located in census metropolitan areas and in census agglomerations that had a core population of 50,000 or more in the previous census.\n",
    "\n"
   ]
  },
  {
   "cell_type": "code",
   "execution_count": null,
   "metadata": {
    "_kg_hide-input": true,
    "_uuid": "021699fa72b53289becfd781d28a2ff1ebad2778"
   },
   "outputs": [],
   "source": [
    "total_population = rca_df[\"HC01_VC03\"][1:]\n",
    "\n",
    "trace = go.Histogram(x=total_population, marker=dict(color='orange', opacity=0.6))\n",
    "layout = dict(title=\"Total Population Distribution - Across the counties\", margin=dict(l=200), width=800, height=400)\n",
    "data = [trace]\n",
    "fig = go.Figure(data=data, layout=layout)\n",
    "iplot(fig)\n",
    "\n",
    "male_pop = rca_df[\"HC01_VC04\"][1:]\n",
    "female_pop = rca_df[\"HC01_VC05\"][1:]\n",
    "\n",
    "trace1 = go.Histogram(x=male_pop, name=\"male population\", marker=dict(color='blue', opacity=0.6))\n",
    "trace2 = go.Histogram(x=female_pop, name=\"female population\", marker=dict(color='pink', opacity=0.6))\n",
    "layout = dict(title=\"Population Distribution Breakdown - Across the Census Tracts\", margin=dict(l=200), width=800, height=400)\n",
    "data = [trace1, trace2]\n",
    "fig = go.Figure(data=data, layout=layout)\n",
    "iplot(fig)"
   ]
  },
  {
   "cell_type": "markdown",
   "metadata": {
    "_uuid": "744b78cad1c6ae7a4797fbb45609b527fac5aeb4"
   },
   "source": [
    "So about 50 census tracts have population around 3000 - 4000. One Census tract has very high population. Female gender percentage is higher in only two of the census tracts. \n",
    "\n",
    "### Distribution of Age Groups\n",
    "\n",
    "Lets plot the census tract wise different agegroup's population count "
   ]
  },
  {
   "cell_type": "code",
   "execution_count": null,
   "metadata": {
    "_kg_hide-input": true,
    "_uuid": "af4b8af29ccbf7ba3c98b6ac855f2066110a693d"
   },
   "outputs": [],
   "source": [
    "age_cols = []\n",
    "names = []\n",
    "for i in range(13):\n",
    "    if i < 2:\n",
    "        i = \"0\"+str(i+8)\n",
    "        relcol = \"HC01_VC\" + str(i)\n",
    "    else:\n",
    "        relcol = \"HC01_VC\" + str(i+8)\n",
    "    age_cols.append(relcol)\n",
    "    name = a_df[a_df[\"GEO.id\"] == relcol][\"Id\"].iloc(0)[0].replace(\"Estimate; SEX AND AGE - \",\"\")\n",
    "    names.append(name)\n",
    "\n",
    "rca_df['GEO.display-label_cln'] = rca_df[\"GEO.display-label\"].apply(lambda x : x.replace(\", Marion County, Indiana\", \"\").replace(\"Census Tract \", \"CT: \"))\n",
    "\n",
    "traces = []\n",
    "for i,agecol in enumerate(age_cols):\n",
    "    x = rca_df[\"GEO.display-label_cln\"][1:]\n",
    "    y = rca_df[agecol][1:]\n",
    "    trace = go.Bar(y=y, x=x, name=names[i])\n",
    "    traces.append(trace)\n",
    "\n",
    "tmp = pd.DataFrame()\n",
    "vals = []\n",
    "Geo = []\n",
    "Col = []\n",
    "for i,age_col in enumerate(age_cols):\n",
    "    Geo += list(rca_df[\"GEO.display-label_cln\"][1:].values)\n",
    "    Col += list([names[i]]*len(rca_df[1:]))\n",
    "    vals += list(rca_df[age_col][1:].values)\n",
    "\n",
    "tmp['Geo'] = Geo\n",
    "tmp['Col'] = Col\n",
    "tmp['Val'] = vals\n",
    "tmp['Val'] = tmp['Val'].astype(int)  * 0.01\n",
    "\n",
    "data = [go.Scatter(x = tmp[\"Geo\"], y = tmp[\"Col\"], mode=\"markers\", marker=dict(size=list(tmp[\"Val\"].values)))]\n",
    "layout = dict(title=\"Age Distribution by Census Tract - Marion County, Indiana\", legend=dict(x=-0.1, y=1, orientation=\"h\"), \n",
    "              margin=dict(l=150, b=100), height=600, barmode=\"stack\")\n",
    "fig = go.Figure(data=data, layout=layout)\n",
    "iplot(fig)"
   ]
  },
  {
   "cell_type": "markdown",
   "metadata": {
    "_uuid": "d7135ea8767b9aa2df3c57df27ac0540d5146763"
   },
   "source": [
    "The above plot gives a view about which age groups are located in which areas. Lets look at an other view of age group distributions. "
   ]
  },
  {
   "cell_type": "code",
   "execution_count": null,
   "metadata": {
    "_kg_hide-input": true,
    "_uuid": "fb4d4796e0186931839926340fb246830cfc2129"
   },
   "outputs": [],
   "source": [
    "trace1 = go.Histogram(x = rca_df[\"HC01_VC26\"][1:], name=\"18+\", marker=dict(opacity=0.4)) \n",
    "trace2 = go.Histogram(x = rca_df[\"HC01_VC27\"][1:], name=\"21+\", marker=dict(opacity=0.3)) \n",
    "trace3 = go.Histogram(x = rca_df[\"HC01_VC28\"][1:], name=\"62+\", marker=dict(opacity=0.4)) \n",
    "trace4 = go.Histogram(x = rca_df[\"HC01_VC29\"][1:], name=\"65+\", marker=dict(opacity=0.3)) \n",
    "\n",
    "titles = [\"Age : 18+\",\"Age : 21+\",\"Age : 62+\",\"Age : 65+\",]\n",
    "fig = tools.make_subplots(rows=2, cols=2, print_grid=False, subplot_titles=titles)\n",
    "fig.append_trace(trace1, 1, 1);\n",
    "fig.append_trace(trace2, 1, 2);\n",
    "fig.append_trace(trace3, 2, 1);\n",
    "fig.append_trace(trace4, 2, 2);\n",
    "fig['layout'].update(height=600, title=\"Distribution of Age across the Census Tracts\", showlegend=False);\n",
    "iplot(fig, filename='simple-subplot');"
   ]
  },
  {
   "cell_type": "markdown",
   "metadata": {
    "_uuid": "8f3ba25d9c0ff0aa18a6d5f26798441f5419aed9"
   },
   "source": [
    "Let's plot the population distribution by different Race. First, lets consider only the single Race variables"
   ]
  },
  {
   "cell_type": "code",
   "execution_count": null,
   "metadata": {
    "_kg_hide-input": true,
    "_uuid": "6fa818f54ed2b7e153942f22cb16991a75eebfa6"
   },
   "outputs": [],
   "source": [
    "single_race_df = rca_df[[\"HC01_VC49\", \"HC01_VC50\", \"HC01_VC51\", \"HC01_VC56\", \"HC01_VC64\", \"HC01_VC69\"]][1:]\n",
    "ops = [1, 0.85, 0.75, 0.65, 0.55, 0.45]\n",
    "traces = []\n",
    "for i, col in enumerate(single_race_df.columns):\n",
    "    nm = a_df[a_df[\"GEO.id\"] == col][\"Id\"].iloc(0)[0].replace(\"Estimate; RACE - One race - \", \"\")\n",
    "    trace = go.Bar(x=rca_df[\"GEO.display-label_cln\"][1:], y=single_race_df[col], name=nm, marker=dict(opacity=0.6))\n",
    "    traces.append(trace)\n",
    "layout = dict(barmode=\"stack\", title=\"Population Breakdown by Race (Single)\", margin=dict(b=100), height=600, legend=dict(x=-0.1, y=1, orientation=\"h\"))\n",
    "fig = go.Figure(data=traces, layout=layout)\n",
    "iplot(fig)"
   ]
  },
  {
   "cell_type": "markdown",
   "metadata": {
    "_uuid": "1c1c985c3c6181cd17a62d5ea98386a94175ac6f"
   },
   "source": [
    "We can see that majority wise White or Black American population exists. It will be interesting to look at which ones are the dominating other races. Lets remove white and black population and plot again"
   ]
  },
  {
   "cell_type": "code",
   "execution_count": null,
   "metadata": {
    "_kg_hide-input": true,
    "_uuid": "61dab23b490a6e28e8f49cc17cef828356f645ed"
   },
   "outputs": [],
   "source": [
    "traces = []\n",
    "for i, col in enumerate(single_race_df.columns):\n",
    "    nm = a_df[a_df[\"GEO.id\"] == col][\"Id\"].iloc(0)[0].replace(\"Estimate; RACE - One race - \", \"\")\n",
    "    if nm in [\"White\", \"Black or African American\"]:\n",
    "        continue\n",
    "    trace = go.Bar(x=rca_df[\"GEO.display-label_cln\"][1:], y=single_race_df[col], name=nm, marker=dict(opacity=0.6))\n",
    "    traces.append(trace)\n",
    "layout = dict(barmode=\"stack\", title=\"Population Breakdown by Race (Single)\", margin=dict(b=100), height=400, legend=dict(x=-0.1, y=1, orientation=\"h\"))\n",
    "fig = go.Figure(data=traces, layout=layout)\n",
    "iplot(fig)"
   ]
  },
  {
   "cell_type": "markdown",
   "metadata": {
    "_uuid": "4500fd00a588da5ab3b4b69754f3a744b188234f"
   },
   "source": [
    "Lets explore other metrics of the same district\n",
    "\n",
    "### Dept_23-00089, Metric : Poverty\n"
   ]
  },
  {
   "cell_type": "code",
   "execution_count": null,
   "metadata": {
    "_kg_hide-input": true,
    "_uuid": "40cc2542ed643efc488b6e7779f0d5dde70efbde"
   },
   "outputs": [],
   "source": [
    "basepath2 = \"../input/cpe-data/Dept_23-00089/23-00089_ACS_data/23-00089_ACS_poverty/\"\n",
    "a_df = pd.read_csv(basepath2 + \"ACS_15_5YR_S1701_metadata.csv\")\n",
    "# for j, y in a_df.iterrows():\n",
    "#     if \"Below poverty level; Estimate\" in y['Id']:\n",
    "#         print (y['GEO.id'], y['Id'])        \n",
    "        \n",
    "a_df.T.head()"
   ]
  },
  {
   "cell_type": "code",
   "execution_count": null,
   "metadata": {
    "_kg_hide-input": true,
    "_uuid": "e1faa61f48be454326787473bf43307255f84c85"
   },
   "outputs": [],
   "source": [
    "pov_df = pd.read_csv(basepath2 + \"ACS_15_5YR_S1701_with_ann.csv\")[1:]\n",
    "pov_df.head()\n",
    "\n",
    "# pov_df[[\"HC02_EST_VC66\", \"\"]]\n",
    "# pov_df[\"HC02_EST_VC01\"] = pov_df[\"HC02_EST_VC01\"].astype(float)\n",
    "# pov_df.sort_values(\"HC02_EST_VC01\", ascending = False)[\"HC02_EST_VC01\"]"
   ]
  },
  {
   "cell_type": "code",
   "execution_count": null,
   "metadata": {
    "_kg_hide-input": true,
    "_uuid": "46aa5a004a492aff45b32706f075d100306230f4"
   },
   "outputs": [],
   "source": [
    "age_bp = [\"HC02_EST_VC04\", \"HC02_EST_VC05\", \"HC02_EST_VC08\", \"HC02_EST_VC09\", \"HC02_EST_VC11\"]\n",
    "pov_df[age_bp]\n",
    "\n",
    "pov_df['GEO.display-label_cln'] = pov_df[\"GEO.display-label\"].apply(lambda x : x.replace(\", Marion County, Indiana\", \"\").replace(\"Census Tract \", \"CT: \"))\n",
    "\n",
    "names = [\"Below 5\", \"5-17\", \"18-34\", \"34-64\", \"65+\"]\n",
    "\n",
    "vals = []\n",
    "Geo = []\n",
    "Col = []\n",
    "tmp = pd.DataFrame()\n",
    "for i,age_col in enumerate(age_bp):\n",
    "    Geo += list(pov_df[\"GEO.display-label_cln\"][1:].values)\n",
    "    Col += list([names[i]]*len(pov_df[1:]))\n",
    "    vals += list(pov_df[age_col][1:].values)\n",
    "\n",
    "tmp['Geo'] = Geo\n",
    "tmp['Col'] = Col\n",
    "tmp['Val'] = vals\n",
    "tmp['Val'] = tmp['Val'].astype(int)  * 0.025\n",
    "\n",
    "geos = tmp.groupby(\"Geo\").agg({\"Val\" : \"sum\"}).sort_values(\"Val\", ascending = False)[:75].reset_index()['Geo']\n",
    "tmp1 = tmp[tmp[\"Geo\"].isin(geos)]\n",
    "data = [go.Scatter(x = tmp1[\"Geo\"], y = tmp1[\"Col\"], mode=\"markers\", marker=dict(color=\"red\", size=list(tmp1[\"Val\"].values)))]\n",
    "layout = dict(title=\"Age Distribution by Census Tract - Marion County, Indiana\", legend=dict(x=-0.1, y=1, orientation=\"h\"), \n",
    "              margin=dict(l=150, b=100), height=600, barmode=\"stack\")\n",
    "fig = go.Figure(data=data, layout=layout)\n",
    "iplot(fig)"
   ]
  },
  {
   "cell_type": "markdown",
   "metadata": {
    "_uuid": "df0ff9863c0184a3c9326af1383548424f1e5156"
   },
   "source": [
    "### Dept_23-00089, Metric : Owner Occupied Housing\n"
   ]
  },
  {
   "cell_type": "code",
   "execution_count": null,
   "metadata": {
    "_kg_hide-input": true,
    "_uuid": "e0413a09ded56259379cbd2c981328d882dd6c7a"
   },
   "outputs": [],
   "source": [
    "basepath = \"../input/cpe-data/Dept_23-00089/23-00089_ACS_data/23-00089_ACS_owner-occupied-housing/\"\n",
    "a_df = pd.read_csv(basepath + \"ACS_15_5YR_S2502_metadata.csv\")\n",
    "# for i,val in a_df.iterrows():\n",
    "#     if \"Estimate\" in val['Id']:\n",
    "#         if \"Owner-occupied\" in val[\"Id\"]:\n",
    "#             print (val['GEO.id'], val[\"Id\"])\n",
    "a_df.T.head()    "
   ]
  },
  {
   "cell_type": "markdown",
   "metadata": {
    "_uuid": "e63c5caac60a995abd907efe93a05188b079ee7f"
   },
   "source": [
    "### Department : Dept_23-00089 | Metric : Education\n"
   ]
  },
  {
   "cell_type": "code",
   "execution_count": null,
   "metadata": {
    "_kg_hide-input": true,
    "_uuid": "b096098e8d95fe092b3e10bd55b5843a89234eb5"
   },
   "outputs": [],
   "source": [
    "basepath = \"../input/cpe-data/Dept_23-00089/23-00089_ACS_data/23-00089_ACS_education-attainment/\"\n",
    "a_df = pd.read_csv(basepath + \"ACS_15_5YR_S1501_metadata.csv\")\n",
    "a_df.T.head()"
   ]
  },
  {
   "cell_type": "code",
   "execution_count": null,
   "metadata": {
    "_kg_hide-input": true,
    "_uuid": "abf16e4fb84625a24668a6240bf2bbb7fb007f2a"
   },
   "outputs": [],
   "source": [
    "a_df = pd.read_csv(basepath + \"ACS_15_5YR_S1501_with_ann.csv\")\n",
    "a_df.head()"
   ]
  },
  {
   "cell_type": "markdown",
   "metadata": {
    "_uuid": "852f13fb66e88ffba6d45981a1c4ab57a29a150e"
   },
   "source": [
    "Similar files are shared for other departments as well. Lets look at an other department. \n",
    "\n",
    "### Department : Dept_35-00103\n",
    "\n",
    "Lets explore the prepped file which contains information about the incidents that occured in that area"
   ]
  },
  {
   "cell_type": "code",
   "execution_count": null,
   "metadata": {
    "_kg_hide-input": true,
    "_uuid": "423733372f9c7dcc67439b8b152f85b0ce870278"
   },
   "outputs": [],
   "source": [
    "path = \"../input/cpe-data/Dept_35-00103/35-00103_UOF-OIS-P_prepped.csv\"\n",
    "incidents = pd.read_csv(path)\n",
    "incidents.head()"
   ]
  },
  {
   "cell_type": "code",
   "execution_count": null,
   "metadata": {
    "_uuid": "8635bfcaed119c3736cdd443b17108a5378a7f73"
   },
   "outputs": [],
   "source": [
    "incidents[\"SUBJECT_INJURY_TYPE\"].value_counts()"
   ]
  },
  {
   "cell_type": "markdown",
   "metadata": {
    "_uuid": "e3133c2b5770051ebaf92b8b946fb5de2363e7c3"
   },
   "source": [
    "Total Incidents reported : "
   ]
  },
  {
   "cell_type": "code",
   "execution_count": null,
   "metadata": {
    "_kg_hide-input": true,
    "_uuid": "6b68ab8967fe570865edbe1352bf3c4d1b791408"
   },
   "outputs": [],
   "source": [
    "incidents.shape[0]"
   ]
  },
  {
   "cell_type": "markdown",
   "metadata": {
    "_uuid": "31f7c0e7de7d1951bbb49104597ff92d56e8fb55"
   },
   "source": [
    "### Location of Incidents "
   ]
  },
  {
   "cell_type": "code",
   "execution_count": null,
   "metadata": {
    "_kg_hide-input": true,
    "_uuid": "4822a16e95362f2cfb80cbd924dedd5df1082a5e"
   },
   "outputs": [],
   "source": [
    "kmap = folium.Map([35.22, -80.89], height=400, zoom_start=10, tiles='CartoDB dark_matter')\n",
    "for j, rown in incidents[1:].iterrows():\n",
    "    if str(rown[\"LOCATION_LONGITUDE\"]) != \"nan\":\n",
    "        lon = float(rown[\"LOCATION_LATITUDE\"])\n",
    "        lat = float(rown[\"LOCATION_LONGITUDE\"])\n",
    "        folium.CircleMarker([lon, lat], radius=5, color='red', fill=True).add_to(kmap)\n",
    "kmap"
   ]
  },
  {
   "cell_type": "markdown",
   "metadata": {
    "_uuid": "127a8b08dee9774c445e6bf3b2a5651b9f3338cb"
   },
   "source": [
    "Incidents by Race : Legend - \n",
    "\n",
    "Black : Black Person   \n",
    "Green : White Person  \n",
    "Yellow : Hispanic  \n",
    "Red : All Others  \n"
   ]
  },
  {
   "cell_type": "code",
   "execution_count": null,
   "metadata": {
    "_kg_hide-input": true,
    "_uuid": "12cab3cceee69d6efb1971cdccf680f72b9d3d53"
   },
   "outputs": [],
   "source": [
    "imap = folium.Map([35.22, -80.89], height=400, zoom_start=10, tiles='CartoDB positron')\n",
    "for j, rown in incidents[1:].iterrows():\n",
    "    if str(rown[\"LOCATION_LONGITUDE\"]) != \"nan\":\n",
    "        lon = float(rown[\"LOCATION_LATITUDE\"])\n",
    "        lat = float(rown[\"LOCATION_LONGITUDE\"])\n",
    "        \n",
    "        if rown[\"SUBJECT_RACE\"] == \"Black\":\n",
    "            col = \"black\"\n",
    "        elif rown[\"SUBJECT_RACE\"]== \"White\":\n",
    "            col = \"green\"\n",
    "        elif rown[\"SUBJECT_RACE\"]== \"Hispanic\":\n",
    "            col = \"yellow\"\n",
    "        else:\n",
    "            col = \"red\"\n",
    "                \n",
    "        folium.CircleMarker([lon, lat], radius=5, color=col, fill=True).add_to(imap)    \n",
    "imap"
   ]
  },
  {
   "cell_type": "markdown",
   "metadata": {
    "_uuid": "8f49921537947a25ec657e2d82244b9d9a8d484d"
   },
   "source": [
    "Lets plot these incidents by gender"
   ]
  },
  {
   "cell_type": "code",
   "execution_count": null,
   "metadata": {
    "_kg_hide-input": true,
    "_uuid": "c730b086401f6312268f253634ab25bd2ecfbe91"
   },
   "outputs": [],
   "source": [
    "imap = folium.Map([35.22, -80.89], height=400, zoom_start=10, tiles='CartoDB positron')\n",
    "for j, rown in incidents[1:].iterrows():\n",
    "    if str(rown[\"LOCATION_LONGITUDE\"]) != \"nan\":\n",
    "        lon = float(rown[\"LOCATION_LATITUDE\"])\n",
    "        lat = float(rown[\"LOCATION_LONGITUDE\"])\n",
    "        \n",
    "        if rown[\"SUBJECT_GENDER\"] == \"Male\":\n",
    "            col = \"blue\"\n",
    "        else:\n",
    "            col = \"red\"\n",
    "                \n",
    "        folium.CircleMarker([lon, lat], radius=5, color=col, fill=True).add_to(imap)        \n",
    "imap"
   ]
  },
  {
   "cell_type": "markdown",
   "metadata": {
    "_uuid": "f0e0dba00701fda47cddc7e004b9077a9e6caac7"
   },
   "source": [
    "Only one incident involves female, rest all others were males. \n",
    "\n",
    "Incidents by Subject Injury Types"
   ]
  },
  {
   "cell_type": "code",
   "execution_count": null,
   "metadata": {
    "_kg_hide-input": true,
    "_uuid": "c22a0077752255e63933d10c884dac479e4453c1"
   },
   "outputs": [],
   "source": [
    "imap = folium.Map([35.22, -80.89], height=400, zoom_start=10, tiles='CartoDB positron')\n",
    "for j, rown in incidents[1:].iterrows():\n",
    "    if str(rown[\"LOCATION_LONGITUDE\"]) != \"nan\":\n",
    "        lon = float(rown[\"LOCATION_LATITUDE\"])\n",
    "        lat = float(rown[\"LOCATION_LONGITUDE\"])\n",
    "        \n",
    "        if rown[\"SUBJECT_INJURY_TYPE\"] == \"Non-Fatal Injury\":\n",
    "            col = \"red\"\n",
    "        elif rown[\"SUBJECT_INJURY_TYPE\"] == \"Fatal Injury\":\n",
    "            col = \"green\"\n",
    "        else:\n",
    "            col = \"blue\"                \n",
    "        folium.CircleMarker([lon, lat], radius=5, color=col, fill=True).add_to(imap)        \n",
    "imap"
   ]
  },
  {
   "cell_type": "markdown",
   "metadata": {
    "_uuid": "de6e2d1bd9d43e82ba5de8a4020c21265963315b"
   },
   "source": [
    "Lets locate the location of Police Offices as well"
   ]
  },
  {
   "cell_type": "code",
   "execution_count": null,
   "metadata": {
    "_kg_hide-input": true,
    "_uuid": "39ef22d416d99c5af34046cf0ed663f89fd8a4ee"
   },
   "outputs": [],
   "source": [
    "p2 = \"\"\"../input/cpe-data/Dept_35-00103/35-00103_Shapefiles/CMPD_Police_Division_Offices.shp\"\"\"\n",
    "One = gpd.read_file(p2) \n",
    "for j, rown in One.iterrows():\n",
    "    lon = float(str(rown[\"geometry\"]).split()[1].replace(\"(\",\"\"))\n",
    "    lat = float(str(rown[\"geometry\"]).split()[2].replace(\")\",\"\"))\n",
    "    folium.CircleMarker([lat, lon], radius=5, color='blue', fill=True).add_to(kmap)\n",
    "kmap"
   ]
  },
  {
   "cell_type": "markdown",
   "metadata": {
    "_uuid": "51551c1ed6737e42b07f373fd9274574db0f4763"
   },
   "source": [
    "\n",
    "### Indianapolis Police Zones\n",
    "\n",
    "Lets plot the shape file and related data "
   ]
  },
  {
   "cell_type": "code",
   "execution_count": null,
   "metadata": {
    "_kg_hide-input": true,
    "_uuid": "5fb7860ab303e92ba0d2f25ac32618616d995e08"
   },
   "outputs": [],
   "source": [
    "p1 = \"\"\"../input/cpe-data/Dept_23-00089/23-00089_Shapefiles/Indianapolis_Police_Zones.shp\"\"\"\n",
    "One = gpd.read_file(p1)  \n",
    "One.head()"
   ]
  },
  {
   "cell_type": "code",
   "execution_count": null,
   "metadata": {
    "_kg_hide-input": true,
    "_uuid": "a47e3dfec3f5ba48da194c9d8fc62e961044884e"
   },
   "outputs": [],
   "source": [
    "mapa = folium.Map([39.81, -86.26060805912148], height=400, zoom_start=10, tiles='CartoDB dark_matter',API_key='wrobstory.map-12345678')\n",
    "folium.GeoJson(One).add_to(mapa)\n",
    "mapa "
   ]
  },
  {
   "cell_type": "markdown",
   "metadata": {
    "_uuid": "ad256d9d5827d8752e4e7b7df7f1f76d30c01460"
   },
   "source": [
    "Lets plot the districts and juridiction realted with this shapefile data"
   ]
  },
  {
   "cell_type": "code",
   "execution_count": null,
   "metadata": {
    "_kg_hide-input": true,
    "_uuid": "4647b0ec94bfad3c90be818404b2fde7e98f58c7"
   },
   "outputs": [],
   "source": [
    "f, ax = plt.subplots(1, figsize=(10, 8))\n",
    "One.plot(column=\"DISTRICT\", ax=ax, cmap='Accent',legend=True);\n",
    "plt.title(\"Districts : Indianapolis Police Zones\")\n",
    "plt.show()"
   ]
  },
  {
   "cell_type": "code",
   "execution_count": null,
   "metadata": {
    "_kg_hide-input": true,
    "_uuid": "26287df353b0f4a005d00949f22a25a205b49a6f"
   },
   "outputs": [],
   "source": [
    "f, ax = plt.subplots(1, figsize=(10, 8))\n",
    "One.plot(column=\"JURISDCTN\", ax=ax, cmap='Accent', legend=True);\n",
    "plt.title(\"JuriDiction : Indianapolis Police Zones\")\n",
    "plt.show()"
   ]
  },
  {
   "cell_type": "markdown",
   "metadata": {
    "_uuid": "08c683ba72dd058f8df44c2b225b7ef1b36f2078"
   },
   "source": [
    "### Bostan Police Districts"
   ]
  },
  {
   "cell_type": "code",
   "execution_count": null,
   "metadata": {
    "_kg_hide-input": true,
    "_uuid": "4c34ec736da4968265326af8fd69fdfe6e2adb0a"
   },
   "outputs": [],
   "source": [
    "p3 = \"\"\"../input/cpe-data/Dept_11-00091/11-00091_Shapefiles/boston_police_districts_f55.shp\"\"\"\n",
    "One = gpd.read_file(p3)  \n",
    "mapa = folium.Map([42.3, -71.0], height=400, zoom_start=10,  tiles='CartoDB dark_matter',API_key='wrobstory.map-12345678')\n",
    "folium.GeoJson(One).add_to(mapa)\n",
    "mapa "
   ]
  },
  {
   "cell_type": "markdown",
   "metadata": {
    "_uuid": "32e5dec55702dfac9d70f21649e448de46ed5c5b"
   },
   "source": [
    "### Dallas Districts"
   ]
  },
  {
   "cell_type": "code",
   "execution_count": null,
   "metadata": {
    "_kg_hide-input": true,
    "_uuid": "b2320cbf458e064213db912dec05948f4c402976"
   },
   "outputs": [],
   "source": [
    "p4 = \"\"\"../input/cpe-data/Dept_37-00049/37-00049_Shapefiles/EPIC.shp\"\"\"\n",
    "One = gpd.read_file(p4)  \n",
    "mapa = folium.Map([32.7, -96.7],zoom_start=10, height=400, tiles='CartoDB dark_matter',API_key='wrobstory.map-12345678')\n",
    "folium.GeoJson(One).add_to(mapa)\n",
    "mapa "
   ]
  },
  {
   "cell_type": "markdown",
   "metadata": {
    "_uuid": "0b37cd90ed55da125ce8d122bb1c2674f10137e3"
   },
   "source": [
    "### Austin City \n",
    "\n",
    "Lets plot the incidents of Austin, Tx"
   ]
  },
  {
   "cell_type": "code",
   "execution_count": null,
   "metadata": {
    "_kg_hide-input": true,
    "_uuid": "64783c18dcb3761103dc48134665f5a295361dc9"
   },
   "outputs": [],
   "source": [
    "p5 = \"../input/cpe-data/Dept_37-00027/37-00027_UOF-P_2014-2016_prepped.csv\"\n",
    "dept_37_27_df = pd.read_csv(p5)[1:]\n",
    "dept_37_27_df[\"INCIDENT_DATE\"] = pd.to_datetime(dept_37_27_df[\"INCIDENT_DATE\"]).astype(str)\n",
    "dept_37_27_df[\"MonthDate\"] = dept_37_27_df[\"INCIDENT_DATE\"].apply(lambda x : x.split(\"-\")[0] +'-'+ x.split(\"-\")[1] + \"-01\")\n",
    "\n",
    "tmp = dept_37_27_df.groupby(\"MonthDate\").agg({\"INCIDENT_REASON\" : \"count\"}).reset_index()\n",
    "tmp\n",
    "\n",
    "import plotly.plotly as py\n",
    "import plotly.graph_objs as go\n",
    "\n",
    "trace1 = go.Scatter(x=tmp[\"MonthDate\"], y=tmp.INCIDENT_REASON, name=\"Month wise Incidents\")\n",
    "# trace2 = go.Scatter(x=tmp[\"MonthDate\"], y=tmp.INCIDENT_REASON)\n",
    "\n",
    "data = [trace1]\n",
    "layout = go.Layout(height=400, title=\"Incidents in Austin Texas\")\n",
    "fig = go.Figure(data, layout)\n",
    "iplot(fig)"
   ]
  },
  {
   "cell_type": "code",
   "execution_count": null,
   "metadata": {
    "_kg_hide-input": true,
    "_uuid": "95ff66baeb5f9d268434cfa949124c3aa25f3492"
   },
   "outputs": [],
   "source": [
    "a = dept_37_27_df[\"SUBJECT_GENDER\"].value_counts()\n",
    "tr1 = go.Bar(x = a.index, y = a.values, name=\"Gender\")\n",
    "\n",
    "a = dept_37_27_df[\"INCIDENT_REASON\"].value_counts()\n",
    "tr2 = go.Bar(x = a.index, y = a.values, name=\"INCIDENT_REASON\")\n",
    "\n",
    "a = dept_37_27_df[\"SUBJECT_RACE\"].value_counts()\n",
    "tr3 = go.Bar(x = a.index, y = a.values, name=\"SUBJECT_RACE\")\n",
    "\n",
    "\n",
    "fig = tools.make_subplots(rows=1, cols=3, print_grid=False, subplot_titles=[\"Gender\", \"Incident Reason\", \"Subject Race\"])\n",
    "fig.append_trace(tr1, 1, 1);\n",
    "fig.append_trace(tr2, 1, 2);\n",
    "fig.append_trace(tr3, 1, 3);\n",
    "fig['layout'].update(height=400, title=\"Austin Incidents Distribution\", showlegend=False);\n",
    "iplot(fig, filename='simple-subplot');"
   ]
  },
  {
   "cell_type": "code",
   "execution_count": null,
   "metadata": {
    "_kg_hide-input": true,
    "_uuid": "d7252f61248a47b32ff5ace825e421a0adc4ede0"
   },
   "outputs": [],
   "source": [
    "a = dept_37_27_df[\"REASON_FOR_FORCE\"].value_counts()[:6]\n",
    "tr1 = go.Bar(x = a.index, y = a.values, name=\"Gender\")\n",
    "\n",
    "a = dept_37_27_df[\"TYPE_OF_FORCE_USED1\"].value_counts()[:8]\n",
    "tr2 = go.Bar(x = a.index, y = a.values, name=\"INCIDENT_REASON\")\n",
    "\n",
    "fig = tools.make_subplots(rows=1, cols=2, print_grid=False, subplot_titles=[\"REASON_FOR_FORCE\", \"TYPE_OF_FORCE_USED1\"])\n",
    "fig.append_trace(tr1, 1, 1);\n",
    "fig.append_trace(tr2, 1, 2);\n",
    "fig['layout'].update(height=400, margin=dict(b=140), title=\"Austin Incidents Distribution\", showlegend=False);\n",
    "iplot(fig, filename='simple-subplot');"
   ]
  },
  {
   "cell_type": "markdown",
   "metadata": {
    "_uuid": "4606a668623169b4e0f99283463790311ead9409"
   },
   "source": [
    "The shape file is also given:"
   ]
  },
  {
   "cell_type": "code",
   "execution_count": null,
   "metadata": {
    "_kg_hide-input": true,
    "_uuid": "069bc70849b2fceb36f11845a1e175455bf0c476"
   },
   "outputs": [],
   "source": [
    "p5 = \"../input/cpe-data/Dept_37-00027/37-00027_Shapefiles/APD_DIST.shp\"\n",
    "dept_37_27_shp = gpd.read_file(p5)\n",
    "dept_37_27_shp.head()"
   ]
  },
  {
   "cell_type": "code",
   "execution_count": null,
   "metadata": {
    "_kg_hide-input": true,
    "_uuid": "351aa56773e0dde7cf98d0af1bce397178c1a010"
   },
   "outputs": [],
   "source": [
    "f, ax = plt.subplots(1, figsize=(10, 12))\n",
    "dept_37_27_shp.plot(column=\"SECTOR\", ax=ax, cmap='Accent',legend=True);\n",
    "plt.title(\"Sectors \")\n",
    "plt.show()"
   ]
  },
  {
   "cell_type": "code",
   "execution_count": null,
   "metadata": {
    "_kg_hide-input": true,
    "_uuid": "a760739656fd8d15a73d4d7d9ee5f2d2d14ddd80"
   },
   "outputs": [],
   "source": [
    "f, ax = plt.subplots(1, figsize=(10, 12))\n",
    "dept_37_27_shp.plot(column=\"PATROL_ARE\", ax=ax, cmap='coolwarm',legend=True);\n",
    "plt.title(\"Patrol Areas \")\n",
    "plt.show()"
   ]
  },
  {
   "cell_type": "markdown",
   "metadata": {
    "_uuid": "d148c5f4a042b920ad5d9c3d10dae74ccab5e4e6"
   },
   "source": [
    "Lets try to map the multiple shape files / data together.  Taking the notes from @Chris [kernel](https://www.kaggle.com/crawford/another-world-famous-starter-kernel-by-chris) and @dsholes [kernel](https://www.kaggle.com/dsholes/confused-start-here), First we can create the GeoPandas dataframe from the normal dataframe, by converting the latlongs to POINTS. "
   ]
  },
  {
   "cell_type": "code",
   "execution_count": null,
   "metadata": {
    "_kg_hide-input": true,
    "_uuid": "7945e5e2f7bb6202580a4a2080d149027fa9d889"
   },
   "outputs": [],
   "source": [
    "from shapely.geometry import Point\n",
    "\n",
    "## remove na\n",
    "notna = dept_37_27_df[['LOCATION_LATITUDE','LOCATION_LONGITUDE']].dropna().index\n",
    "dept_37_27_df = dept_37_27_df.iloc[notna].reset_index(drop=True)\n",
    "dept_37_27_df['coordinates'] = (dept_37_27_df.apply(lambda x: Point(float(x['LOCATION_LONGITUDE']), float(x['LOCATION_LATITUDE'])), axis=1))\n",
    "dept_37_27_gdf = gpd.GeoDataFrame(dept_37_27_df, geometry='coordinates')\n",
    "\n",
    "# ## make the corrdinate system same\n",
    "dept_37_27_gdf.crs = {'init' :'epsg:4326'}\n",
    "dept_37_27_shp.crs = {'init' :'esri:102739'}\n",
    "dept_37_27_shp = dept_37_27_shp.to_crs(epsg='4326')"
   ]
  },
  {
   "cell_type": "markdown",
   "metadata": {
    "_uuid": "b6c247827d77e622ac93a1181e73ce77ae37dd29"
   },
   "source": [
    "Plot incidents by patrol areas, sectors etc"
   ]
  },
  {
   "cell_type": "code",
   "execution_count": null,
   "metadata": {
    "_kg_hide-input": true,
    "_uuid": "a9e2b3f654fa9c52890e6b4883f83ac46746e975"
   },
   "outputs": [],
   "source": [
    "## plot\n",
    "f, ax = plt.subplots(1, figsize=(10, 12))\n",
    "dept_37_27_shp.plot(ax=ax, column='PATROL_ARE', cmap = \"gray\", legend=True)\n",
    "dept_37_27_gdf.plot(ax=ax, marker='*', color='red', markersize=10)\n",
    "plt.title(\"Incident Locations and Patrol Areas \")\n",
    "plt.show()"
   ]
  },
  {
   "cell_type": "code",
   "execution_count": null,
   "metadata": {
    "_kg_hide-input": true,
    "_uuid": "1f1e1a8d5c6b7e06778179d80bf55c06e077921a"
   },
   "outputs": [],
   "source": [
    "## plot\n",
    "f, ax = plt.subplots(1, figsize=(10, 12))\n",
    "dept_37_27_shp.plot(ax=ax, column='SECTOR', cmap = \"Oranges\", legend=True)\n",
    "dept_37_27_gdf.plot(ax=ax, marker='*', color='Black', markersize=10)\n",
    "plt.title(\"Incident Locations and Sectors \")\n",
    "plt.show()"
   ]
  },
  {
   "cell_type": "markdown",
   "metadata": {
    "_uuid": "214f3317ca76bfe8dcf38e432a2f0fceb61ce83b"
   },
   "source": [
    "Great, now we have understanding about what kinds of dataset we have.  I have now shared my complete solution : \n",
    "\n",
    "### <font color=\"#703bdb\">Main Submission: </font>\n",
    "\n",
    "<ul>\n",
    "    <li><a href=\"https://www.kaggle.com/shivamb/1-solution-workflow-science-of-policing-equity/\">Part 1: Solution Workflow - The Science of Policing Equity </a>  </li>\n",
    "    <li><a href=\"https://www.kaggle.com/shivamb/2-automation-pipeline-integration-processing\">Part 2: Data Integration and Processing : Automation Pipeline</a>  </li>\n",
    "    <li><a href=\"https://www.kaggle.com/shivamb/3-example-runs-of-automation-pipeline\">Part 3: Example Runs of Automation Pipeline </a>  </li> \n",
    "    <li><a href=\"https://www.kaggle.com/shivamb/4-1-analysis-report-minneapolis-24-00013\">Part 4.1: Analysis Report - Measuring Equity - Minneapolis Police Department </a>   </li>\n",
    "    <li><a href=\"https://www.kaggle.com/shivamb/4-2-analysis-report-lapd-49-00033\">Part 4.2: Analysis Report - Los Angles Police Department (49-00033) </a>   </li>\n",
    "    <li><a href=\"https://www.kaggle.com/shivamb/4-3-analysis-report-officer-level-analysis\">Part 4.3: Analysis Report - Indianapolis Officer Level Analysis (23-00089) </a>   </li></ul>\n"
   ]
  }
 ],
 "metadata": {
  "kernelspec": {
   "display_name": "Python 3",
   "language": "python",
   "name": "python3"
  },
  "language_info": {
   "codemirror_mode": {
    "name": "ipython",
    "version": 3
   },
   "file_extension": ".py",
   "mimetype": "text/x-python",
   "name": "python",
   "nbconvert_exporter": "python",
   "pygments_lexer": "ipython3",
   "version": "3.7.4"
  }
 },
 "nbformat": 4,
 "nbformat_minor": 1
}
