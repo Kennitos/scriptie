{
 "cells": [
  {
   "cell_type": "markdown",
   "metadata": {},
   "source": [
    "# Search Engine for Jupyter notebooks"
   ]
  },
  {
   "cell_type": "markdown",
   "metadata": {},
   "source": [
    "### Links \n",
    "enter toets gebruiken voor search:\n",
    "- link: https://stackoverflow.com/questions/47137370/getting-text-from-jupyter-text-widget\n",
    "- link: https://pythonprogs.blogspot.com/2017/01/widgets-for-jupyter-notebook-text-input.html\n",
    "\n",
    "advanced search toggle (advanced search tonen/verbergen):\n",
    "- link: https://stackoverflow.com/questions/54093955/ipywidgets-use-checkbox-to-display-or-hide-other-widgets\n",
    "\n",
    "elastic search\n",
    "- link: https://www.elastic.co/guide/en/elasticsearch/reference/current/query-dsl-multi-match-query.html\n",
    "- link: https://www.elastic.co/guide/en/elasticsearch/reference/current/query-dsl-query-string-query.html\n",
    "- link: https://www.elastic.co/guide/en/elasticsearch/reference/6.8/search-request-highlighting.html\n"
   ]
  },
  {
   "cell_type": "markdown",
   "metadata": {},
   "source": [
    "## Creating a dictionary from the notebook files"
   ]
  },
  {
   "cell_type": "code",
   "execution_count": 1,
   "metadata": {},
   "outputs": [],
   "source": [
    "# import\n",
    "import json\n",
    "import os\n",
    "from collections import defaultdict\n",
    "import numpy as np"
   ]
  },
  {
   "cell_type": "code",
   "execution_count": 2,
   "metadata": {},
   "outputs": [
    {
     "data": {
      "text/plain": [
       "['00.00-Preface.ipynb',\n",
       " '01.00-IPython-Beyond-Normal-Python.ipynb',\n",
       " '01.01-Help-And-Documentation.ipynb',\n",
       " '01.02-Shell-Keyboard-Shortcuts.ipynb',\n",
       " '01.03-Magic-Commands.ipynb']"
      ]
     },
     "execution_count": 2,
     "metadata": {},
     "output_type": "execute_result"
    }
   ],
   "source": [
    "folder = 'PythonDataScienceHandbook-notebooks'\n",
    "files = [file for file in os.listdir(os.getcwd()+'\\\\'+folder) if file[-6:]=='.ipynb']\n",
    "\n",
    "# test\n",
    "files[:5]"
   ]
  },
  {
   "cell_type": "code",
   "execution_count": 3,
   "metadata": {},
   "outputs": [],
   "source": [
    "def read_ipynb(file,folder):\n",
    "    cwd = os.getcwd()\n",
    "    with open(cwd+'\\\\'+folder+'\\\\'+file,encoding=\"utf8\") as file:\n",
    "        data = json.load(file)\n",
    "        code = []\n",
    "        markdown = []\n",
    "        modules = []\n",
    "        heading = []\n",
    "        code_output = []\n",
    "        \n",
    "        output_line = []\n",
    "        for cell in data['cells']:\n",
    "            clean_cell = list(map(lambda s: s.strip(), cell['source'])) #remove the '\\n' at the end of each string in the list         \n",
    "            for line in clean_cell:\n",
    "                if line[:6]=='import' or line[:4]=='from':\n",
    "                    modules += [line]\n",
    "                if line[:1] == '#':\n",
    "                    heading += [line]\n",
    "            \n",
    "            if cell['cell_type'] == 'markdown':\n",
    "                markdown += clean_cell\n",
    "            \n",
    "            if cell['cell_type'] == 'code':\n",
    "                code += clean_cell\n",
    "                if cell['outputs']!=[]:\n",
    "                    output_type = cell['outputs'][0]['output_type']\n",
    "                    if output_type == 'stream':\n",
    "                        output_line = cell['outputs'][0]['text']\n",
    "                    if output_type == 'execute_result':\n",
    "                        output_line = cell['outputs'][0]['data']['text/plain']\n",
    "                    code_output += output_line\n",
    "\n",
    "    markdown_str = ' '.join(map(str, markdown))\n",
    "    code_str = ' '.join(map(str, code))\n",
    "    code_output_str = ' '.join(map(str, code_output))\n",
    "    modules = list(set(modules))\n",
    "\n",
    "    return sorted(modules),heading,markdown_str,code_str,code_output_str #markdown,code\n",
    "\n",
    "\n",
    "# test\n",
    "\n",
    "# %%time\n",
    "# read_ipynb('02.02-The-Basics-Of-NumPy-Arrays.ipynb',folder)"
   ]
  },
  {
   "cell_type": "code",
   "execution_count": 4,
   "metadata": {},
   "outputs": [
    {
     "name": "stdout",
     "output_type": "stream",
     "text": [
      "Wall time: 128 ms\n"
     ]
    },
    {
     "data": {
      "text/plain": [
       "['import numpy as np']"
      ]
     },
     "execution_count": 4,
     "metadata": {},
     "output_type": "execute_result"
    }
   ],
   "source": [
    "%%time\n",
    "\n",
    "ipynb_dict = defaultdict()\n",
    "for file in files:\n",
    "    temp_dict = {}\n",
    "    values = read_ipynb(file,folder)\n",
    "    temp_dict['file_name'] = file\n",
    "    temp_dict['modules'] = values[0]\n",
    "    temp_dict['heading'] = values[1]\n",
    "    temp_dict['markdown_str'] = values[2]\n",
    "    temp_dict['code_str'] = values[3]\n",
    "    temp_dict['code_output_str'] = values[4]\n",
    "    ipynb_dict[file] = temp_dict\n",
    "    \n",
    "# test\n",
    "ipynb_dict['02.02-The-Basics-Of-NumPy-Arrays.ipynb']['modules']"
   ]
  },
  {
   "cell_type": "markdown",
   "metadata": {},
   "source": [
    "## Analysing the dictionary by creating a index"
   ]
  },
  {
   "cell_type": "code",
   "execution_count": null,
   "metadata": {},
   "outputs": [],
   "source": []
  },
  {
   "cell_type": "code",
   "execution_count": null,
   "metadata": {},
   "outputs": [],
   "source": []
  },
  {
   "cell_type": "code",
   "execution_count": null,
   "metadata": {},
   "outputs": [],
   "source": []
  },
  {
   "cell_type": "code",
   "execution_count": null,
   "metadata": {},
   "outputs": [],
   "source": []
  },
  {
   "cell_type": "markdown",
   "metadata": {},
   "source": [
    "### Create a dataframe"
   ]
  },
  {
   "cell_type": "code",
   "execution_count": 5,
   "metadata": {},
   "outputs": [],
   "source": [
    "import pandas as pd"
   ]
  },
  {
   "cell_type": "code",
   "execution_count": 6,
   "metadata": {},
   "outputs": [
    {
     "data": {
      "text/html": [
       "<div>\n",
       "<style scoped>\n",
       "    .dataframe tbody tr th:only-of-type {\n",
       "        vertical-align: middle;\n",
       "    }\n",
       "\n",
       "    .dataframe tbody tr th {\n",
       "        vertical-align: top;\n",
       "    }\n",
       "\n",
       "    .dataframe thead th {\n",
       "        text-align: right;\n",
       "    }\n",
       "</style>\n",
       "<table border=\"1\" class=\"dataframe\">\n",
       "  <thead>\n",
       "    <tr style=\"text-align: right;\">\n",
       "      <th></th>\n",
       "      <th>file_name</th>\n",
       "      <th>modules</th>\n",
       "      <th>heading</th>\n",
       "      <th>markdown_str</th>\n",
       "      <th>code_str</th>\n",
       "      <th>code_output_str</th>\n",
       "    </tr>\n",
       "  </thead>\n",
       "  <tbody>\n",
       "    <tr>\n",
       "      <td>0</td>\n",
       "      <td>00.00-Preface.ipynb</td>\n",
       "      <td>[]</td>\n",
       "      <td>[# Preface, ## What Is Data Science?, ## Who I...</td>\n",
       "      <td>&lt;!--BOOK_INFORMATION--&gt; &lt;img align=\"left\" styl...</td>\n",
       "      <td></td>\n",
       "      <td></td>\n",
       "    </tr>\n",
       "    <tr>\n",
       "      <td>1</td>\n",
       "      <td>01.00-IPython-Beyond-Normal-Python.ipynb</td>\n",
       "      <td>[]</td>\n",
       "      <td>[# IPython: Beyond Normal Python, ## Shell or ...</td>\n",
       "      <td>&lt;!--BOOK_INFORMATION--&gt; &lt;img align=\"left\" styl...</td>\n",
       "      <td></td>\n",
       "      <td></td>\n",
       "    </tr>\n",
       "    <tr>\n",
       "      <td>2</td>\n",
       "      <td>01.01-Help-And-Documentation.ipynb</td>\n",
       "      <td>[]</td>\n",
       "      <td>[# Help and Documentation in IPython, ## Acces...</td>\n",
       "      <td>&lt;!--BOOK_INFORMATION--&gt; &lt;img align=\"left\" styl...</td>\n",
       "      <td></td>\n",
       "      <td></td>\n",
       "    </tr>\n",
       "    <tr>\n",
       "      <td>3</td>\n",
       "      <td>01.02-Shell-Keyboard-Shortcuts.ipynb</td>\n",
       "      <td>[]</td>\n",
       "      <td>[# Keyboard Shortcuts in the IPython Shell, ##...</td>\n",
       "      <td>&lt;!--BOOK_INFORMATION--&gt; &lt;img align=\"left\" styl...</td>\n",
       "      <td></td>\n",
       "      <td></td>\n",
       "    </tr>\n",
       "    <tr>\n",
       "      <td>4</td>\n",
       "      <td>01.03-Magic-Commands.ipynb</td>\n",
       "      <td>[]</td>\n",
       "      <td>[# IPython Magic Commands, ## Pasting Code Blo...</td>\n",
       "      <td>&lt;!--BOOK_INFORMATION--&gt; &lt;img align=\"left\" styl...</td>\n",
       "      <td></td>\n",
       "      <td></td>\n",
       "    </tr>\n",
       "    <tr>\n",
       "      <td>5</td>\n",
       "      <td>01.04-Input-Output-History.ipynb</td>\n",
       "      <td>[import math]</td>\n",
       "      <td>[# Input and Output History, ## IPython's ``In...</td>\n",
       "      <td>&lt;!--BOOK_INFORMATION--&gt; &lt;img align=\"left\" styl...</td>\n",
       "      <td></td>\n",
       "      <td></td>\n",
       "    </tr>\n",
       "    <tr>\n",
       "      <td>6</td>\n",
       "      <td>01.05-IPython-And-Shell-Commands.ipynb</td>\n",
       "      <td>[]</td>\n",
       "      <td>[# IPython and Shell Commands, ## Quick Introd...</td>\n",
       "      <td>&lt;!--BOOK_INFORMATION--&gt; &lt;img align=\"left\" styl...</td>\n",
       "      <td></td>\n",
       "      <td></td>\n",
       "    </tr>\n",
       "    <tr>\n",
       "      <td>7</td>\n",
       "      <td>01.06-Errors-and-Debugging.ipynb</td>\n",
       "      <td>[]</td>\n",
       "      <td>[# Errors and Debugging, ## Controlling Except...</td>\n",
       "      <td>&lt;!--BOOK_INFORMATION--&gt; &lt;img align=\"left\" styl...</td>\n",
       "      <td>def func1(a, b): return a / b  def func2(x): a...</td>\n",
       "      <td>Exception reporting mode: Plain\\n Exception re...</td>\n",
       "    </tr>\n",
       "    <tr>\n",
       "      <td>8</td>\n",
       "      <td>01.07-Timing-and-Profiling.ipynb</td>\n",
       "      <td>[from mprun_demo import sum_of_lists, import r...</td>\n",
       "      <td>[# Profiling and Timing Code, ## Timing Code S...</td>\n",
       "      <td>&lt;!--BOOK_INFORMATION--&gt; &lt;img align=\"left\" styl...</td>\n",
       "      <td>%timeit sum(range(100)) %%timeit total = 0 for...</td>\n",
       "      <td>100000 loops, best of 3: 1.54 µs per loop\\n 1 ...</td>\n",
       "    </tr>\n",
       "    <tr>\n",
       "      <td>9</td>\n",
       "      <td>01.08-More-IPython-Resources.ipynb</td>\n",
       "      <td>[]</td>\n",
       "      <td>[# More IPython Resources, ## Web Resources, #...</td>\n",
       "      <td>&lt;!--BOOK_INFORMATION--&gt; &lt;img align=\"left\" styl...</td>\n",
       "      <td></td>\n",
       "      <td></td>\n",
       "    </tr>\n",
       "  </tbody>\n",
       "</table>\n",
       "</div>"
      ],
      "text/plain": [
       "                                  file_name  \\\n",
       "0                       00.00-Preface.ipynb   \n",
       "1  01.00-IPython-Beyond-Normal-Python.ipynb   \n",
       "2        01.01-Help-And-Documentation.ipynb   \n",
       "3      01.02-Shell-Keyboard-Shortcuts.ipynb   \n",
       "4                01.03-Magic-Commands.ipynb   \n",
       "5          01.04-Input-Output-History.ipynb   \n",
       "6    01.05-IPython-And-Shell-Commands.ipynb   \n",
       "7          01.06-Errors-and-Debugging.ipynb   \n",
       "8          01.07-Timing-and-Profiling.ipynb   \n",
       "9        01.08-More-IPython-Resources.ipynb   \n",
       "\n",
       "                                             modules  \\\n",
       "0                                                 []   \n",
       "1                                                 []   \n",
       "2                                                 []   \n",
       "3                                                 []   \n",
       "4                                                 []   \n",
       "5                                      [import math]   \n",
       "6                                                 []   \n",
       "7                                                 []   \n",
       "8  [from mprun_demo import sum_of_lists, import r...   \n",
       "9                                                 []   \n",
       "\n",
       "                                             heading  \\\n",
       "0  [# Preface, ## What Is Data Science?, ## Who I...   \n",
       "1  [# IPython: Beyond Normal Python, ## Shell or ...   \n",
       "2  [# Help and Documentation in IPython, ## Acces...   \n",
       "3  [# Keyboard Shortcuts in the IPython Shell, ##...   \n",
       "4  [# IPython Magic Commands, ## Pasting Code Blo...   \n",
       "5  [# Input and Output History, ## IPython's ``In...   \n",
       "6  [# IPython and Shell Commands, ## Quick Introd...   \n",
       "7  [# Errors and Debugging, ## Controlling Except...   \n",
       "8  [# Profiling and Timing Code, ## Timing Code S...   \n",
       "9  [# More IPython Resources, ## Web Resources, #...   \n",
       "\n",
       "                                        markdown_str  \\\n",
       "0  <!--BOOK_INFORMATION--> <img align=\"left\" styl...   \n",
       "1  <!--BOOK_INFORMATION--> <img align=\"left\" styl...   \n",
       "2  <!--BOOK_INFORMATION--> <img align=\"left\" styl...   \n",
       "3  <!--BOOK_INFORMATION--> <img align=\"left\" styl...   \n",
       "4  <!--BOOK_INFORMATION--> <img align=\"left\" styl...   \n",
       "5  <!--BOOK_INFORMATION--> <img align=\"left\" styl...   \n",
       "6  <!--BOOK_INFORMATION--> <img align=\"left\" styl...   \n",
       "7  <!--BOOK_INFORMATION--> <img align=\"left\" styl...   \n",
       "8  <!--BOOK_INFORMATION--> <img align=\"left\" styl...   \n",
       "9  <!--BOOK_INFORMATION--> <img align=\"left\" styl...   \n",
       "\n",
       "                                            code_str  \\\n",
       "0                                                      \n",
       "1                                                      \n",
       "2                                                      \n",
       "3                                                      \n",
       "4                                                      \n",
       "5                                                      \n",
       "6                                                      \n",
       "7  def func1(a, b): return a / b  def func2(x): a...   \n",
       "8  %timeit sum(range(100)) %%timeit total = 0 for...   \n",
       "9                                                      \n",
       "\n",
       "                                     code_output_str  \n",
       "0                                                     \n",
       "1                                                     \n",
       "2                                                     \n",
       "3                                                     \n",
       "4                                                     \n",
       "5                                                     \n",
       "6                                                     \n",
       "7  Exception reporting mode: Plain\\n Exception re...  \n",
       "8  100000 loops, best of 3: 1.54 µs per loop\\n 1 ...  \n",
       "9                                                     "
      ]
     },
     "execution_count": 6,
     "metadata": {},
     "output_type": "execute_result"
    }
   ],
   "source": [
    "notebooks_df = pd.DataFrame.from_dict(ipynb_dict,orient='index').reset_index(drop=True)\n",
    "\n",
    "# test\n",
    "notebooks_df.head(10)"
   ]
  },
  {
   "cell_type": "markdown",
   "metadata": {},
   "source": [
    "## Elastic Search Setup Local"
   ]
  },
  {
   "cell_type": "code",
   "execution_count": 7,
   "metadata": {},
   "outputs": [],
   "source": [
    "# import\n",
    "from elasticsearch import Elasticsearch # <== May need to pip install this\n",
    "import pandas as pd\n",
    "from tqdm import tqdm_notebook"
   ]
  },
  {
   "cell_type": "code",
   "execution_count": 8,
   "metadata": {},
   "outputs": [],
   "source": [
    "HOST = 'http://localhost:9200/'\n",
    "es = Elasticsearch(hosts=[HOST])\n",
    "\n",
    "INDEX=\"vanderplas\"\n",
    "TYPE= \"record\"\n",
    "\n",
    "def rec_to_actions(df):\n",
    "    for record in df.to_dict(orient=\"records\"):\n",
    "        yield ('{ \"index\" : { \"_index\" : \"%s\", \"_type\" : \"%s\" }}'% (INDEX, TYPE))\n",
    "        yield (json.dumps(record, default=int))"
   ]
  },
  {
   "cell_type": "markdown",
   "metadata": {},
   "source": [
    "### Put the dataframe .."
   ]
  },
  {
   "cell_type": "code",
   "execution_count": 9,
   "metadata": {},
   "outputs": [
    {
     "data": {
      "application/vnd.jupyter.widget-view+json": {
       "model_id": "519403f29f8142399e9bbf1205030d2c",
       "version_major": 2,
       "version_minor": 0
      },
      "text/plain": [
       "HBox(children=(IntProgress(value=0, max=1), HTML(value='')))"
      ]
     },
     "metadata": {},
     "output_type": "display_data"
    },
    {
     "name": "stdout",
     "output_type": "stream",
     "text": [
      "\n",
      "Done\n"
     ]
    }
   ],
   "source": [
    "def index_marks(nrows, chunk_size):\n",
    "    return range(1 * chunk_size, (nrows // chunk_size + 1) * chunk_size, chunk_size)\n",
    "\n",
    "\n",
    "def split(dfm, chunk_size):\n",
    "    indices = index_marks(dfm.shape[0], chunk_size)\n",
    "    return np.split(dfm, indices) \n",
    "\n",
    "# split up the dataframe\n",
    "chunks = split(notebooks_df, 9000)\n",
    "\n",
    "# Now bulk index all the chunks\n",
    "c = len(chunks)\n",
    "for c in tqdm_notebook(chunks):\n",
    "    if c.shape[0]>0:\n",
    "        r = es.bulk(rec_to_actions(c)) # return a dict\n",
    "print('Done')"
   ]
  },
  {
   "cell_type": "code",
   "execution_count": null,
   "metadata": {},
   "outputs": [],
   "source": [
    "# HANDIG\n",
    "\n",
    "\n",
    "# !curl \"http://localhost:9200/vanderplas\"\n",
    "# !curl -XDELETE \"localhost:9200/vanderplas\"\n",
    "# !curl \"http://localhost:9200/_cat/indices?v\"\n",
    "# !curl -XPOST \"http://localhost:9200/_shutdown\""
   ]
  },
  {
   "cell_type": "code",
   "execution_count": 10,
   "metadata": {},
   "outputs": [],
   "source": [
    "def multi_match_query(code,markdown,modules,highlight):\n",
    "    query_str = ''\n",
    "    fields = []\n",
    "    \n",
    "    if code != None:\n",
    "        fields += ['code_str']\n",
    "        query_str += ' '+code\n",
    "    if markdown != None:\n",
    "        fields += ['markdown_str']\n",
    "        query_str += ' '+markdown\n",
    "    if modules != None:\n",
    "        fields += ['modules']\n",
    "        query_str += ' '+modules   \n",
    "    \n",
    "        \n",
    "    q = {}\n",
    "    query_dict = {}\n",
    "    multi_match = {}\n",
    "    \n",
    "    multi_match['fields'] = fields\n",
    "    multi_match['query'] = query_str\n",
    "    query_dict['multi_match'] = multi_match\n",
    "    q['query'] = query_dict\n",
    "    \n",
    "    if highlight != None:\n",
    "        highlight = {\"pre_tags\":[\"<b>\"],\n",
    "            \"post_tags\":[\"</b>\"],\n",
    "            \"fields\":{'markdown_str':{}}}\n",
    "        q['highlight'] = highlight\n",
    "    return q\n",
    "\n",
    "def query_string_query(code,markdown,modules,highlight):\n",
    "    query_str = ''\n",
    "    fields = []\n",
    "    \n",
    "    if code != None:\n",
    "        fields += ['code_str']\n",
    "        query_str += '(code_str:'+code+')'\n",
    "    if markdown != None:\n",
    "        fields += ['markdown_str']\n",
    "        if query_str != '':\n",
    "            query_str += ' AND '\n",
    "        query_str += '(markdown_str:'+markdown+')'\n",
    "    if modules != None:\n",
    "        fields += ['modules']\n",
    "        if query_str != '':\n",
    "            query_str += ' AND '\n",
    "        query_str += '(modules:'+modules+')'  \n",
    "    \n",
    "        \n",
    "    q = {}\n",
    "    query_dict = {}\n",
    "    query_string = {}\n",
    "    \n",
    "    query_string['query'] = query_str\n",
    "    query_dict['query_string'] = query_string\n",
    "    q['query'] = query_dict\n",
    "    \n",
    "    if highlight == True:\n",
    "        highlight = {\"pre_tags\":[\"<b>\"],\n",
    "                     \"post_tags\":[\"</b>\"],\n",
    "                     \"order\":\"score\",\n",
    "                     \"fields\":{'markdown_str':{},'code_str':{}}}\n",
    "        q['highlight'] = highlight\n",
    "    return q\n",
    "\n",
    "# \"order\":\"score\",\n",
    "# \"fields\":{'_all':{}}} WERKT NIET....\n",
    "\n",
    "\n",
    "# https://www.elastic.co/guide/en/elasticsearch/reference/6.8/search-request-highlighting.html"
   ]
  },
  {
   "cell_type": "code",
   "execution_count": null,
   "metadata": {},
   "outputs": [],
   "source": [
    "# test\n",
    "# q_test_multimatch = multi_match_query('linear',None,'numpy',True)\n",
    "# q_test_multimatch"
   ]
  },
  {
   "cell_type": "code",
   "execution_count": 11,
   "metadata": {},
   "outputs": [
    {
     "data": {
      "text/plain": [
       "{'query': {'query_string': {'query': '(markdown_str:drop) AND (modules:pandas)'}},\n",
       " 'highlight': {'pre_tags': ['<b>'],\n",
       "  'post_tags': ['</b>'],\n",
       "  'order': 'score',\n",
       "  'fields': {'markdown_str': {}, 'code_str': {}}}}"
      ]
     },
     "execution_count": 11,
     "metadata": {},
     "output_type": "execute_result"
    }
   ],
   "source": [
    "# test\n",
    "q_test_querystring = query_string_query(None,'drop','pandas',True)\n",
    "q_test_querystring"
   ]
  },
  {
   "cell_type": "markdown",
   "metadata": {},
   "source": [
    "# Search Engine widget"
   ]
  },
  {
   "cell_type": "code",
   "execution_count": 12,
   "metadata": {},
   "outputs": [],
   "source": [
    "import ipywidgets as widgets"
   ]
  },
  {
   "cell_type": "code",
   "execution_count": 13,
   "metadata": {},
   "outputs": [],
   "source": [
    "# Text \n",
    "normal_text = widgets.Text() #description=\"Search\", continuous_update=True)\n",
    "code = widgets.Text(description=\"Code\")\n",
    "markdown = widgets.Text(description=\"Markdown\")\n",
    "modules = widgets.Text(description=\"Modules\")\n",
    "\n",
    "# Buttons\n",
    "search_b_normal = widgets.Button(description=\"Search\")\n",
    "search_b_adv = widgets.Button(description=\"Search\")\n",
    "clear_b = widgets.Button(description=\"Clear\")\n",
    "\n",
    "output = widgets.Output()\n",
    "\n",
    "\n",
    "def on_normal_search_clicked(b):\n",
    "    with output:\n",
    "        output.clear_output()\n",
    "        if normal_text.value == '':\n",
    "            print(\"Type a query\")\n",
    "        else:\n",
    "#             print(query_maker(normal_text.value,normal_text.value,normal_text.value,None))\n",
    "            display_results(multi_match_query(normal_text.value,normal_text.value,normal_text.value,True),20)\n",
    "\n",
    "def on_adv_search_clicked(b):\n",
    "    send_code = code.value\n",
    "    send_markdown = markdown.value\n",
    "    send_modules = modules.value\n",
    "    with output:\n",
    "        output.clear_output()\n",
    "        if code.value == \"\" and markdown.value=='' and modules.value=='':\n",
    "            print(\"Type a query\")\n",
    "        else:\n",
    "            if code.value == '':\n",
    "                send_code = None\n",
    "            if markdown.value == '':\n",
    "                send_markdown = None\n",
    "            if modules.value == '':\n",
    "                send_modules = None\n",
    "            print(query_string_query(send_code,send_markdown,send_modules,True))\n",
    "            display_results(query_string_query(send_code,send_markdown,send_modules,True),20)\n",
    "\n",
    "        \n",
    "def on_clear_clicked(b):\n",
    "    with output:\n",
    "        output.clear_output()\n",
    "    normal_text.value = ''\n",
    "    markdown.value = ''\n",
    "    code.value = ''\n",
    "    modules.value = ''\n",
    "    \n",
    "        \n",
    "def switch(check):\n",
    "    with output:                      # remove if you want results to stay when\n",
    "        output.clear_output()         # you switch between normal and adv search\n",
    "    if check['new']:\n",
    "        search_display.children=[row_adv,row_output]\n",
    "    else:\n",
    "        search_display.children=[row_normal,row_output]\n",
    "\n",
    "        \n",
    "def display_results(query,max_res):\n",
    "    result = es.search(body=query, size=max_res)\n",
    "    for i in range(len(result['hits']['hits'])): # for all hits\n",
    "        res = result['hits']['hits'][i]\n",
    "        modules = res['_source']['modules']\n",
    "        \n",
    "        res_layout = widgets.Layout(maring='0px')\n",
    "        \n",
    "        title = widgets.HTML(value='<b>'+res['_source']['file_name']+'</b>')#,layout=res_layout)\n",
    "        url_str = 'https://github.com/jakevdp/PythonDataScienceHandbook/blob/master/notebooks/'+res['_source']['file_name']\n",
    "        url = widgets.HTML(value='<a href='+url_str + ' target=\"_blank\">' + url_str + '</a>')\n",
    "        score = widgets.HTML(value=str(res['_score']))#,layout=res_layout)\n",
    "        \n",
    "        whole_layout = widgets.Layout(display='flex',\n",
    "                        flex_flow='column',\n",
    "                        align_items='stretch',\n",
    "                        border='grey solid 1px')\n",
    "        \n",
    "        \n",
    "        try:\n",
    "            highlight_str = str(res['highlight'].values())\n",
    "            highlight = widgets.HTML(value=highlight_str,layout=res_layout)\n",
    "            single_result = widgets.VBox([title,score,url,highlight],layout=whole_layout)\n",
    "#             print(res['highlight'].keys())            \n",
    "#             print(highlight_str)            \n",
    "        except:\n",
    "            single_result = widgets.VBox([title,score,url],layout=whole_layout)\n",
    "        display(single_result)\n"
   ]
  },
  {
   "cell_type": "code",
   "execution_count": 14,
   "metadata": {},
   "outputs": [
    {
     "data": {
      "application/vnd.jupyter.widget-view+json": {
       "model_id": "20c12da7ddf54119a4158beb8522116a",
       "version_major": 2,
       "version_minor": 0
      },
      "text/plain": [
       "Checkbox(value=False, description='Advanced Search')"
      ]
     },
     "metadata": {},
     "output_type": "display_data"
    },
    {
     "data": {
      "application/vnd.jupyter.widget-view+json": {
       "model_id": "3da792324d3f4d38962a4031ba4a5ab0",
       "version_major": 2,
       "version_minor": 0
      },
      "text/plain": [
       "VBox(children=(HBox(children=(Text(value=''), Button(description='Search', style=ButtonStyle()), Button(descri…"
      ]
     },
     "metadata": {},
     "output_type": "display_data"
    }
   ],
   "source": [
    "search_b_normal.on_click(on_normal_search_clicked)\n",
    "search_b_adv.on_click(on_adv_search_clicked)\n",
    "clear_b.on_click(on_clear_clicked)\n",
    "\n",
    "row_normal = widgets.HBox([normal_text,search_b_normal,clear_b])\n",
    "row_adv = widgets.HBox([markdown,code,modules,search_b_adv,clear_b])\n",
    "row_output = widgets.VBox([output])\n",
    "\n",
    "top_toggle = widgets.Checkbox(description='Advanced Search')\n",
    "top_toggle.observe(switch, names='value')\n",
    "display(top_toggle)\n",
    "\n",
    "normal_text.on_submit(on_normal_search_clicked)\n",
    "code.on_submit(on_adv_search_clicked)\n",
    "markdown.on_submit(on_adv_search_clicked)\n",
    "modules.on_submit(on_adv_search_clicked)\n",
    "\n",
    "\n",
    "search_display = widgets.VBox(children = [row_normal,row_output])\n",
    "display(search_display)"
   ]
  },
  {
   "cell_type": "code",
   "execution_count": null,
   "metadata": {},
   "outputs": [],
   "source": []
  },
  {
   "cell_type": "code",
   "execution_count": null,
   "metadata": {},
   "outputs": [],
   "source": []
  },
  {
   "cell_type": "code",
   "execution_count": null,
   "metadata": {},
   "outputs": [],
   "source": []
  }
 ],
 "metadata": {
  "kernelspec": {
   "display_name": "Python 3",
   "language": "python",
   "name": "python3"
  },
  "language_info": {
   "codemirror_mode": {
    "name": "ipython",
    "version": 3
   },
   "file_extension": ".py",
   "mimetype": "text/x-python",
   "name": "python",
   "nbconvert_exporter": "python",
   "pygments_lexer": "ipython3",
   "version": "3.7.4"
  }
 },
 "nbformat": 4,
 "nbformat_minor": 2
}
