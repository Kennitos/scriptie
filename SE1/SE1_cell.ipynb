{
 "cells": [
  {
   "cell_type": "markdown",
   "metadata": {},
   "source": [
    "# Search Engine for Jupyter notebooks"
   ]
  },
  {
   "cell_type": "markdown",
   "metadata": {},
   "source": [
    "### Links \n",
    "enter toets gebruiken voor search:\n",
    "- link: https://stackoverflow.com/questions/47137370/getting-text-from-jupyter-text-widget\n",
    "- link: https://pythonprogs.blogspot.com/2017/01/widgets-for-jupyter-notebook-text-input.html\n",
    "\n",
    "advanced search toggle (advanced search tonen/verbergen):\n",
    "- link: https://stackoverflow.com/questions/54093955/ipywidgets-use-checkbox-to-display-or-hide-other-widgets\n",
    "\n",
    "elastic search\n",
    "- link: https://www.elastic.co/guide/en/elasticsearch/reference/current/query-dsl-multi-match-query.html\n",
    "- link: https://www.elastic.co/guide/en/elasticsearch/reference/current/query-dsl-query-string-query.html\n",
    "- link: https://www.elastic.co/guide/en/elasticsearch/reference/6.8/search-request-highlighting.html\n"
   ]
  },
  {
   "cell_type": "code",
   "execution_count": 1,
   "metadata": {},
   "outputs": [],
   "source": [
    "# import\n",
    "import json\n",
    "import os\n",
    "\n",
    "from collections import defaultdict\n",
    "import numpy as np\n",
    "import pandas as pd\n",
    "import seaborn as sns\n",
    "\n",
    "from tqdm import tqdm_notebook\n",
    "from elasticsearch import Elasticsearch \n",
    "import ipywidgets as widgets"
   ]
  },
  {
   "cell_type": "markdown",
   "metadata": {},
   "source": [
    "## Creating a dictionary from the notebook files"
   ]
  },
  {
   "cell_type": "code",
   "execution_count": 3,
   "metadata": {},
   "outputs": [
    {
     "data": {
      "text/plain": [
       "(68,\n",
       " ['00.00-Preface.ipynb',\n",
       "  '01.00-IPython-Beyond-Normal-Python.ipynb',\n",
       "  '01.01-Help-And-Documentation.ipynb',\n",
       "  '01.02-Shell-Keyboard-Shortcuts.ipynb',\n",
       "  '01.03-Magic-Commands.ipynb'],\n",
       " 19,\n",
       " ['00-Introduction.ipynb',\n",
       "  '01-How-to-Run-Python-Code.ipynb',\n",
       "  '02-Basic-Python-Syntax.ipynb',\n",
       "  '03-Semantics-Variables.ipynb',\n",
       "  '04-Semantics-Operators.ipynb'])"
      ]
     },
     "execution_count": 3,
     "metadata": {},
     "output_type": "execute_result"
    }
   ],
   "source": [
    "# DataScience HandBook\n",
    "dshb_folder = 'PythonDataScienceHandbook-notebooks'\n",
    "dshb_files = [file for file in os.listdir(os.getcwd()+'\\\\'+dshb_folder) if file[-6:]=='.ipynb']\n",
    "\n",
    "# WhirlwindTourOfPython\n",
    "wwtp_folder = 'WhirlwindTourOfPython-master'\n",
    "wwtp_files = [file for file in os.listdir(os.getcwd()+'\\\\'+wwtp_folder) if file[-6:]=='.ipynb']\n",
    "\n",
    "# test\n",
    "len(dshb_files),dshb_files[:5],len(wwtp_files),wwtp_files[:5]"
   ]
  },
  {
   "cell_type": "code",
   "execution_count": 108,
   "metadata": {},
   "outputs": [],
   "source": [
    "def read_ipynb_cell(cell_id,cell_dict,file,folder):\n",
    "    \"\"\"\n",
    "    uitleg functie\n",
    "    \"\"\"\n",
    "    cwd = os.getcwd()\n",
    "    with open(cwd+'\\\\'+folder+'\\\\'+file,encoding=\"utf8\") as notebook:\n",
    "        data = json.load(notebook)\n",
    "        file_cell = 0\n",
    "        \n",
    "        for cell in data['cells']:\n",
    "            temp_dict = {}\n",
    "            clean_cell = list(map(lambda s: s.strip(), cell['source'])) #remove the '\\n' at the end of each string in the list         \n",
    "            single_string = ' '.join(clean_cell)\n",
    "            lines = len(clean_cell)\n",
    "            \n",
    "            temp_dict['file_cell'] = file_cell\n",
    "            temp_dict['file'] = file\n",
    "            temp_dict['folder'] = folder\n",
    "            temp_dict['cell_type'] = cell['cell_type']\n",
    "            temp_dict['string'] = clean_cell\n",
    "            temp_dict['char'] = single_string\n",
    "            temp_dict['lines'] = lines\n",
    "            \n",
    "            if cell['cell_type'] == 'code':\n",
    "                if cell['outputs']!=[]:\n",
    "                    output_type = cell['outputs'][0]['output_type']\n",
    "                    temp_dict['output_type'] = output_type\n",
    "                    if output_type == 'stream':\n",
    "                        temp_dict['output'] = cell['outputs'][0]['text']\n",
    "                    elif output_type == 'error':\n",
    "                        temp_dict['output'] = cell['outputs'][0]['traceback']\n",
    "                    else:\n",
    "                        temp_dict['output'] = cell['outputs'][0]['data']['text/plain']\n",
    "\n",
    "            cell_dict[cell_id] = temp_dict\n",
    "            \n",
    "            cell_id += 1\n",
    "            file_cell += 1 \n",
    "\n",
    "    return cell_id,cell_dict"
   ]
  },
  {
   "cell_type": "code",
   "execution_count": null,
   "metadata": {},
   "outputs": [],
   "source": [
    "# %%time\n",
    "\n",
    "# test\n",
    "# read_ipynb_cell(0,{},'02.02-The-Basics-Of-NumPy-Arrays.ipynb',folder)[1][0]"
   ]
  },
  {
   "cell_type": "code",
   "execution_count": 109,
   "metadata": {},
   "outputs": [],
   "source": [
    "def files_to_dict(files,folders):\n",
    "    \"\"\"\n",
    "    uitleg functie\n",
    "    \"\"\"\n",
    "    cell_id = 0\n",
    "    cell_dict = {}\n",
    "\n",
    "    for i in range(len(files)):\n",
    "        for file in files[i]:\n",
    "            a = read_ipynb_cell(cell_id,cell_dict,file,folders[i])\n",
    "            cell_id = a[0]\n",
    "            cell_dict = a[1]\n",
    "        \n",
    "    return cell_id,cell_dict"
   ]
  },
  {
   "cell_type": "code",
   "execution_count": 110,
   "metadata": {},
   "outputs": [
    {
     "name": "stdout",
     "output_type": "stream",
     "text": [
      "Wall time: 1.01 s\n"
     ]
    }
   ],
   "source": [
    "%%time\n",
    "cell_dict = files_to_dict([dshb_files,wwtp_files],[dshb_folder,wwtp_folder])[1]"
   ]
  },
  {
   "cell_type": "markdown",
   "metadata": {},
   "source": [
    "# Create a dataframe"
   ]
  },
  {
   "cell_type": "code",
   "execution_count": 111,
   "metadata": {},
   "outputs": [
    {
     "data": {
      "text/html": [
       "<div>\n",
       "<style scoped>\n",
       "    .dataframe tbody tr th:only-of-type {\n",
       "        vertical-align: middle;\n",
       "    }\n",
       "\n",
       "    .dataframe tbody tr th {\n",
       "        vertical-align: top;\n",
       "    }\n",
       "\n",
       "    .dataframe thead th {\n",
       "        text-align: right;\n",
       "    }\n",
       "</style>\n",
       "<table border=\"1\" class=\"dataframe\">\n",
       "  <thead>\n",
       "    <tr style=\"text-align: right;\">\n",
       "      <th></th>\n",
       "      <th>cell_id</th>\n",
       "      <th>file_cell</th>\n",
       "      <th>file</th>\n",
       "      <th>folder</th>\n",
       "      <th>cell_type</th>\n",
       "      <th>string</th>\n",
       "      <th>char</th>\n",
       "      <th>lines</th>\n",
       "      <th>output_type</th>\n",
       "      <th>output</th>\n",
       "    </tr>\n",
       "  </thead>\n",
       "  <tbody>\n",
       "    <tr>\n",
       "      <td>0</td>\n",
       "      <td>0</td>\n",
       "      <td>0</td>\n",
       "      <td>00.00-Preface.ipynb</td>\n",
       "      <td>PythonDataScienceHandbook-notebooks</td>\n",
       "      <td>markdown</td>\n",
       "      <td>[&lt;!--BOOK_INFORMATION--&gt;, &lt;img align=\"left\" st...</td>\n",
       "      <td>&lt;!--BOOK_INFORMATION--&gt; &lt;img align=\"left\" styl...</td>\n",
       "      <td>6</td>\n",
       "      <td>empty</td>\n",
       "      <td>empty</td>\n",
       "    </tr>\n",
       "    <tr>\n",
       "      <td>1</td>\n",
       "      <td>1</td>\n",
       "      <td>1</td>\n",
       "      <td>00.00-Preface.ipynb</td>\n",
       "      <td>PythonDataScienceHandbook-notebooks</td>\n",
       "      <td>markdown</td>\n",
       "      <td>[&lt;!--NAVIGATION--&gt;, | [Contents](Index.ipynb) ...</td>\n",
       "      <td>&lt;!--NAVIGATION--&gt; | [Contents](Index.ipynb) | ...</td>\n",
       "      <td>4</td>\n",
       "      <td>empty</td>\n",
       "      <td>empty</td>\n",
       "    </tr>\n",
       "    <tr>\n",
       "      <td>2</td>\n",
       "      <td>2</td>\n",
       "      <td>2</td>\n",
       "      <td>00.00-Preface.ipynb</td>\n",
       "      <td>PythonDataScienceHandbook-notebooks</td>\n",
       "      <td>markdown</td>\n",
       "      <td>[# Preface]</td>\n",
       "      <td># Preface</td>\n",
       "      <td>1</td>\n",
       "      <td>empty</td>\n",
       "      <td>empty</td>\n",
       "    </tr>\n",
       "    <tr>\n",
       "      <td>3</td>\n",
       "      <td>3</td>\n",
       "      <td>3</td>\n",
       "      <td>00.00-Preface.ipynb</td>\n",
       "      <td>PythonDataScienceHandbook-notebooks</td>\n",
       "      <td>markdown</td>\n",
       "      <td>[## What Is Data Science?, , This is a book ab...</td>\n",
       "      <td>## What Is Data Science?  This is a book about...</td>\n",
       "      <td>9</td>\n",
       "      <td>empty</td>\n",
       "      <td>empty</td>\n",
       "    </tr>\n",
       "    <tr>\n",
       "      <td>4</td>\n",
       "      <td>4</td>\n",
       "      <td>4</td>\n",
       "      <td>00.00-Preface.ipynb</td>\n",
       "      <td>PythonDataScienceHandbook-notebooks</td>\n",
       "      <td>markdown</td>\n",
       "      <td>[![Data Science Venn Diagram](figures/Data_Sci...</td>\n",
       "      <td>![Data Science Venn Diagram](figures/Data_Scie...</td>\n",
       "      <td>3</td>\n",
       "      <td>empty</td>\n",
       "      <td>empty</td>\n",
       "    </tr>\n",
       "    <tr>\n",
       "      <td>...</td>\n",
       "      <td>...</td>\n",
       "      <td>...</td>\n",
       "      <td>...</td>\n",
       "      <td>...</td>\n",
       "      <td>...</td>\n",
       "      <td>...</td>\n",
       "      <td>...</td>\n",
       "      <td>...</td>\n",
       "      <td>...</td>\n",
       "      <td>...</td>\n",
       "    </tr>\n",
       "    <tr>\n",
       "      <td>3780</td>\n",
       "      <td>3780</td>\n",
       "      <td>1</td>\n",
       "      <td>Index.ipynb</td>\n",
       "      <td>WhirlwindTourOfPython-master</td>\n",
       "      <td>markdown</td>\n",
       "      <td>[*Jake VanderPlas*]</td>\n",
       "      <td>*Jake VanderPlas*</td>\n",
       "      <td>1</td>\n",
       "      <td>empty</td>\n",
       "      <td>empty</td>\n",
       "    </tr>\n",
       "    <tr>\n",
       "      <td>3781</td>\n",
       "      <td>3781</td>\n",
       "      <td>2</td>\n",
       "      <td>Index.ipynb</td>\n",
       "      <td>WhirlwindTourOfPython-master</td>\n",
       "      <td>markdown</td>\n",
       "      <td>[&lt;img src=\"fig/cover-large.gif\"&gt;]</td>\n",
       "      <td>&lt;img src=\"fig/cover-large.gif\"&gt;</td>\n",
       "      <td>1</td>\n",
       "      <td>empty</td>\n",
       "      <td>empty</td>\n",
       "    </tr>\n",
       "    <tr>\n",
       "      <td>3782</td>\n",
       "      <td>3782</td>\n",
       "      <td>3</td>\n",
       "      <td>Index.ipynb</td>\n",
       "      <td>WhirlwindTourOfPython-master</td>\n",
       "      <td>markdown</td>\n",
       "      <td>[These are the Jupyter Notebooks behind my O'R...</td>\n",
       "      <td>These are the Jupyter Notebooks behind my O'Re...</td>\n",
       "      <td>14</td>\n",
       "      <td>empty</td>\n",
       "      <td>empty</td>\n",
       "    </tr>\n",
       "    <tr>\n",
       "      <td>3783</td>\n",
       "      <td>3783</td>\n",
       "      <td>4</td>\n",
       "      <td>Index.ipynb</td>\n",
       "      <td>WhirlwindTourOfPython-master</td>\n",
       "      <td>markdown</td>\n",
       "      <td>[## Index, , 1. [Introduction](00-Introduction...</td>\n",
       "      <td>## Index  1. [Introduction](00-Introduction.ip...</td>\n",
       "      <td>20</td>\n",
       "      <td>empty</td>\n",
       "      <td>empty</td>\n",
       "    </tr>\n",
       "    <tr>\n",
       "      <td>3784</td>\n",
       "      <td>3784</td>\n",
       "      <td>5</td>\n",
       "      <td>Index.ipynb</td>\n",
       "      <td>WhirlwindTourOfPython-master</td>\n",
       "      <td>markdown</td>\n",
       "      <td>[## License, , This material is released under...</td>\n",
       "      <td>## License  This material is released under th...</td>\n",
       "      <td>12</td>\n",
       "      <td>empty</td>\n",
       "      <td>empty</td>\n",
       "    </tr>\n",
       "  </tbody>\n",
       "</table>\n",
       "<p>3785 rows × 10 columns</p>\n",
       "</div>"
      ],
      "text/plain": [
       "      cell_id  file_cell                 file  \\\n",
       "0           0          0  00.00-Preface.ipynb   \n",
       "1           1          1  00.00-Preface.ipynb   \n",
       "2           2          2  00.00-Preface.ipynb   \n",
       "3           3          3  00.00-Preface.ipynb   \n",
       "4           4          4  00.00-Preface.ipynb   \n",
       "...       ...        ...                  ...   \n",
       "3780     3780          1          Index.ipynb   \n",
       "3781     3781          2          Index.ipynb   \n",
       "3782     3782          3          Index.ipynb   \n",
       "3783     3783          4          Index.ipynb   \n",
       "3784     3784          5          Index.ipynb   \n",
       "\n",
       "                                   folder cell_type  \\\n",
       "0     PythonDataScienceHandbook-notebooks  markdown   \n",
       "1     PythonDataScienceHandbook-notebooks  markdown   \n",
       "2     PythonDataScienceHandbook-notebooks  markdown   \n",
       "3     PythonDataScienceHandbook-notebooks  markdown   \n",
       "4     PythonDataScienceHandbook-notebooks  markdown   \n",
       "...                                   ...       ...   \n",
       "3780         WhirlwindTourOfPython-master  markdown   \n",
       "3781         WhirlwindTourOfPython-master  markdown   \n",
       "3782         WhirlwindTourOfPython-master  markdown   \n",
       "3783         WhirlwindTourOfPython-master  markdown   \n",
       "3784         WhirlwindTourOfPython-master  markdown   \n",
       "\n",
       "                                                 string  \\\n",
       "0     [<!--BOOK_INFORMATION-->, <img align=\"left\" st...   \n",
       "1     [<!--NAVIGATION-->, | [Contents](Index.ipynb) ...   \n",
       "2                                           [# Preface]   \n",
       "3     [## What Is Data Science?, , This is a book ab...   \n",
       "4     [![Data Science Venn Diagram](figures/Data_Sci...   \n",
       "...                                                 ...   \n",
       "3780                                [*Jake VanderPlas*]   \n",
       "3781                  [<img src=\"fig/cover-large.gif\">]   \n",
       "3782  [These are the Jupyter Notebooks behind my O'R...   \n",
       "3783  [## Index, , 1. [Introduction](00-Introduction...   \n",
       "3784  [## License, , This material is released under...   \n",
       "\n",
       "                                                   char  lines output_type  \\\n",
       "0     <!--BOOK_INFORMATION--> <img align=\"left\" styl...      6       empty   \n",
       "1     <!--NAVIGATION--> | [Contents](Index.ipynb) | ...      4       empty   \n",
       "2                                             # Preface      1       empty   \n",
       "3     ## What Is Data Science?  This is a book about...      9       empty   \n",
       "4     ![Data Science Venn Diagram](figures/Data_Scie...      3       empty   \n",
       "...                                                 ...    ...         ...   \n",
       "3780                                  *Jake VanderPlas*      1       empty   \n",
       "3781                    <img src=\"fig/cover-large.gif\">      1       empty   \n",
       "3782  These are the Jupyter Notebooks behind my O'Re...     14       empty   \n",
       "3783  ## Index  1. [Introduction](00-Introduction.ip...     20       empty   \n",
       "3784  ## License  This material is released under th...     12       empty   \n",
       "\n",
       "     output  \n",
       "0     empty  \n",
       "1     empty  \n",
       "2     empty  \n",
       "3     empty  \n",
       "4     empty  \n",
       "...     ...  \n",
       "3780  empty  \n",
       "3781  empty  \n",
       "3782  empty  \n",
       "3783  empty  \n",
       "3784  empty  \n",
       "\n",
       "[3785 rows x 10 columns]"
      ]
     },
     "execution_count": 111,
     "metadata": {},
     "output_type": "execute_result"
    }
   ],
   "source": [
    "# import pandas as pd\n",
    "# cell_df = pd.DataFrame.from_dict(cell_dict,orient='index').reset_index()\n",
    "# cell_df.head()\n",
    "\n",
    "cell_df = pd.DataFrame.from_dict(cell_dict,orient='index')\n",
    "cell_df.index = cell_df.index.set_names(['cell_id'])\n",
    "cell_df = cell_df.fillna('empty').reset_index()\n",
    "cell_df\n",
    "\n",
    "\n",
    "# link\n",
    "# "
   ]
  },
  {
   "cell_type": "code",
   "execution_count": 88,
   "metadata": {},
   "outputs": [
    {
     "data": {
      "text/html": [
       "<div>\n",
       "<style scoped>\n",
       "    .dataframe tbody tr th:only-of-type {\n",
       "        vertical-align: middle;\n",
       "    }\n",
       "\n",
       "    .dataframe tbody tr th {\n",
       "        vertical-align: top;\n",
       "    }\n",
       "\n",
       "    .dataframe thead th {\n",
       "        text-align: right;\n",
       "    }\n",
       "</style>\n",
       "<table border=\"1\" class=\"dataframe\">\n",
       "  <thead>\n",
       "    <tr style=\"text-align: right;\">\n",
       "      <th></th>\n",
       "      <th>cell_id</th>\n",
       "      <th>file_cell</th>\n",
       "      <th>lines</th>\n",
       "    </tr>\n",
       "  </thead>\n",
       "  <tbody>\n",
       "    <tr>\n",
       "      <td>count</td>\n",
       "      <td>3785.000000</td>\n",
       "      <td>3785.000000</td>\n",
       "      <td>3785.000000</td>\n",
       "    </tr>\n",
       "    <tr>\n",
       "      <td>mean</td>\n",
       "      <td>1892.000000</td>\n",
       "      <td>30.588904</td>\n",
       "      <td>4.040159</td>\n",
       "    </tr>\n",
       "    <tr>\n",
       "      <td>std</td>\n",
       "      <td>1092.779712</td>\n",
       "      <td>24.323024</td>\n",
       "      <td>6.391018</td>\n",
       "    </tr>\n",
       "    <tr>\n",
       "      <td>min</td>\n",
       "      <td>0.000000</td>\n",
       "      <td>0.000000</td>\n",
       "      <td>1.000000</td>\n",
       "    </tr>\n",
       "    <tr>\n",
       "      <td>25%</td>\n",
       "      <td>946.000000</td>\n",
       "      <td>11.000000</td>\n",
       "      <td>1.000000</td>\n",
       "    </tr>\n",
       "    <tr>\n",
       "      <td>50%</td>\n",
       "      <td>1892.000000</td>\n",
       "      <td>26.000000</td>\n",
       "      <td>2.000000</td>\n",
       "    </tr>\n",
       "    <tr>\n",
       "      <td>75%</td>\n",
       "      <td>2838.000000</td>\n",
       "      <td>44.000000</td>\n",
       "      <td>4.000000</td>\n",
       "    </tr>\n",
       "    <tr>\n",
       "      <td>max</td>\n",
       "      <td>3784.000000</td>\n",
       "      <td>133.000000</td>\n",
       "      <td>187.000000</td>\n",
       "    </tr>\n",
       "  </tbody>\n",
       "</table>\n",
       "</div>"
      ],
      "text/plain": [
       "           cell_id    file_cell        lines\n",
       "count  3785.000000  3785.000000  3785.000000\n",
       "mean   1892.000000    30.588904     4.040159\n",
       "std    1092.779712    24.323024     6.391018\n",
       "min       0.000000     0.000000     1.000000\n",
       "25%     946.000000    11.000000     1.000000\n",
       "50%    1892.000000    26.000000     2.000000\n",
       "75%    2838.000000    44.000000     4.000000\n",
       "max    3784.000000   133.000000   187.000000"
      ]
     },
     "execution_count": 88,
     "metadata": {},
     "output_type": "execute_result"
    }
   ],
   "source": [
    "cell_df.describe()"
   ]
  },
  {
   "cell_type": "code",
   "execution_count": 32,
   "metadata": {},
   "outputs": [
    {
     "data": {
      "text/plain": [
       "False"
      ]
     },
     "execution_count": 32,
     "metadata": {},
     "output_type": "execute_result"
    }
   ],
   "source": [
    "cell_df.file_cell.isnull().values.any()"
   ]
  },
  {
   "cell_type": "code",
   "execution_count": 33,
   "metadata": {},
   "outputs": [
    {
     "data": {
      "text/plain": [
       "0        6\n",
       "1        4\n",
       "2        1\n",
       "3        9\n",
       "4        3\n",
       "        ..\n",
       "3780     1\n",
       "3781     1\n",
       "3782    14\n",
       "3783    20\n",
       "3784    12\n",
       "Name: lines, Length: 3785, dtype: int64"
      ]
     },
     "execution_count": 33,
     "metadata": {},
     "output_type": "execute_result"
    }
   ],
   "source": [
    "cell_df.lines"
   ]
  },
  {
   "cell_type": "code",
   "execution_count": 73,
   "metadata": {},
   "outputs": [
    {
     "data": {
      "text/plain": [
       "'<!--BOOK_INFORMATION--> <img align=\"left\" style=\"padding-right:10px;\" src=\"figures/PDSH-cover-small.png\">  *This notebook contains an excerpt from the [Python Data Science Handbook](http://shop.oreilly.com/product/0636920034919.do) by Jake VanderPlas; the content is available [on GitHub](https://github.com/jakevdp/PythonDataScienceHandbook).*  *The text is released under the [CC-BY-NC-ND license](https://creativecommons.org/licenses/by-nc-nd/3.0/us/legalcode), and code is released under the [MIT license](https://opensource.org/licenses/MIT). If you find this content useful, please consider supporting the work by [buying the book](http://shop.oreilly.com/product/0636920034919.do)!*'"
      ]
     },
     "execution_count": 73,
     "metadata": {},
     "output_type": "execute_result"
    }
   ],
   "source": [
    "cell_df.s_string[0]"
   ]
  },
  {
   "cell_type": "code",
   "execution_count": 74,
   "metadata": {},
   "outputs": [
    {
     "data": {
      "text/plain": [
       "0        689\n",
       "1        403\n",
       "2          9\n",
       "3        934\n",
       "4        185\n",
       "        ... \n",
       "3780      17\n",
       "3781      31\n",
       "3782     865\n",
       "3783    1087\n",
       "3784     542\n",
       "Name: s_string, Length: 3785, dtype: int64"
      ]
     },
     "execution_count": 74,
     "metadata": {},
     "output_type": "execute_result"
    }
   ],
   "source": [
    "cell_df.s_string.str.len()"
   ]
  },
  {
   "cell_type": "code",
   "execution_count": 89,
   "metadata": {
    "scrolled": true
   },
   "outputs": [
    {
     "data": {
      "text/plain": [
       "<matplotlib.axes._subplots.AxesSubplot at 0x220d1629388>"
      ]
     },
     "execution_count": 89,
     "metadata": {},
     "output_type": "execute_result"
    },
    {
     "data": {
      "image/png": "[encoded data removed]",
      "text/plain": [
       "<Figure size 432x288 with 1 Axes>"
      ]
     },
     "metadata": {
      "needs_background": "light"
     },
     "output_type": "display_data"
    }
   ],
   "source": [
    "sns.distplot(cell_df.lines)"
   ]
  },
  {
   "cell_type": "code",
   "execution_count": 92,
   "metadata": {},
   "outputs": [
    {
     "data": {
      "text/plain": [
       "<matplotlib.axes._subplots.AxesSubplot at 0x220d0f03c08>"
      ]
     },
     "execution_count": 92,
     "metadata": {},
     "output_type": "execute_result"
    },
    {
     "data": {
      "image/png": "[encoded data removed]",
      "text/plain": [
       "<Figure size 432x288 with 1 Axes>"
      ]
     },
     "metadata": {
      "needs_background": "light"
     },
     "output_type": "display_data"
    }
   ],
   "source": [
    "sns.distplot(cell_df.char.str.len())"
   ]
  },
  {
   "cell_type": "code",
   "execution_count": null,
   "metadata": {},
   "outputs": [],
   "source": [
    "# def grouping(data):\n",
    "#     groups = [[data[0]]]\n",
    "    \n",
    "#     for x in data[1:]:\n",
    "#         if abs(x - groups[-1][-1]) == 1:\n",
    "#             groups[-1].append(x)\n",
    "#         else:\n",
    "#             groups.append([x])\n",
    "            \n",
    "#     return groups\n",
    "\n",
    "# # grouping(cell_df[cell_df.cell_type=='code'])\n",
    "# grouping(cell_df[cell_df.cell_type=='markdown'])\n",
    "\n",
    "\n",
    "# # link\n",
    "# # https://stackoverflow.com/questions/14783947/grouping-clustering-numbers-in-python"
   ]
  },
  {
   "cell_type": "markdown",
   "metadata": {},
   "source": [
    "## Elastic Search Setup Local"
   ]
  },
  {
   "cell_type": "code",
   "execution_count": 112,
   "metadata": {},
   "outputs": [],
   "source": [
    "HOST = 'http://localhost:9200/'\n",
    "es = Elasticsearch(hosts=[HOST])\n",
    "\n",
    "INDEX=\"vanderplas_cell\"\n",
    "TYPE= \"record\"\n",
    "\n",
    "def rec_to_actions(df):\n",
    "    for record in df.to_dict(orient=\"records\"):\n",
    "        yield ('{ \"index\" : { \"_index\" : \"%s\", \"_type\" : \"%s\" }}'% (INDEX, TYPE))\n",
    "        yield (json.dumps(record, default=int))"
   ]
  },
  {
   "cell_type": "code",
   "execution_count": 114,
   "metadata": {
    "scrolled": true
   },
   "outputs": [
    {
     "data": {
      "application/vnd.jupyter.widget-view+json": {
       "model_id": "3a5d26f4223a4237a8627f094f8c2324",
       "version_major": 2,
       "version_minor": 0
      },
      "text/plain": [
       "HBox(children=(IntProgress(value=0, max=38), HTML(value='')))"
      ]
     },
     "metadata": {},
     "output_type": "display_data"
    },
    {
     "name": "stdout",
     "output_type": "stream",
     "text": [
      "\n",
      "Done\n",
      "Wall time: 1.82 s\n"
     ]
    }
   ],
   "source": [
    "%%time\n",
    "def index_marks(nrows, chunk_size):\n",
    "    return range(1 * chunk_size, (nrows // chunk_size + 1) * chunk_size, chunk_size)\n",
    "\n",
    "\n",
    "def split(dfm, chunk_size):\n",
    "    indices = index_marks(dfm.shape[0], chunk_size)\n",
    "    return np.split(dfm, indices) \n",
    "\n",
    "# split up the dataframe\n",
    "chunks = split(cell_df, 100)\n",
    "\n",
    "# Now bulk index all the chunks\n",
    "c = len(chunks)\n",
    "for c in tqdm_notebook(chunks):\n",
    "    if c.shape[0]>0:\n",
    "        r = es.bulk(rec_to_actions(c)) # return a dict\n",
    "print('Done')\n",
    "\n"
   ]
  },
  {
   "cell_type": "code",
   "execution_count": 115,
   "metadata": {},
   "outputs": [
    {
     "name": "stdout",
     "output_type": "stream",
     "text": [
      "health status index           uuid                   pri rep docs.count docs.deleted store.size pri.store.size\n",
      "yellow open   vanderplas_cell Ziwd061ASMmXCGdPthEnuQ   1   1       3785            0      4.2mb          4.2mb\n"
     ]
    },
    {
     "name": "stderr",
     "output_type": "stream",
     "text": [
      "  % Total    % Received % Xferd  Average Speed   Time    Time     Time  Current\n",
      "                                 Dload  Upload   Total   Spent    Left  Speed\n",
      "\n",
      "  0     0    0     0    0     0      0      0 --:--:-- --:--:-- --:--:--     0\n",
      "100   222  100   222    0     0   8538      0 --:--:-- --:--:-- --:--:--  8538\n"
     ]
    }
   ],
   "source": [
    "# HANDIG\n",
    "\n",
    "# !curl \"http://localhost:9200/vanderplas\"\n",
    "\n",
    "# !curl -XDELETE \"localhost:9200/vanderplas\"\n",
    "# !curl -XDELETE \"localhost:9200/vanderplas_cell\"\n",
    "\n",
    "!curl \"http://localhost:9200/_cat/indices?v\"\n",
    "# !curl -XPOST \"http://localhost:9200/_shutdown\""
   ]
  },
  {
   "cell_type": "markdown",
   "metadata": {},
   "source": [
    "[Click here to open notebook B](Notebook B.ipynb)"
   ]
  },
  {
   "cell_type": "code",
   "execution_count": 104,
   "metadata": {},
   "outputs": [],
   "source": [
    "if not os.path.exists('top_10'):\n",
    "    os.makedirs('top_10')"
   ]
  },
  {
   "cell_type": "code",
   "execution_count": 105,
   "metadata": {},
   "outputs": [],
   "source": [
    "input_reference = {\n",
    "   \"cell_type\": \"markdown\",\n",
    "   \"metadata\": {},\n",
    "   \"source\": [\n",
    "    \"## Answer here\"\n",
    "   ]\n",
    "  }\n",
    "\n",
    "def input_highlight(highlight):\n",
    "    input_highlight = {\n",
    "       \"cell_type\": \"markdown\",\n",
    "       \"metadata\": {},\n",
    "       \"source\": highlight\n",
    "      }\n",
    "    return input_highlight"
   ]
  },
  {
   "cell_type": "code",
   "execution_count": null,
   "metadata": {},
   "outputs": [],
   "source": []
  },
  {
   "cell_type": "code",
   "execution_count": 106,
   "metadata": {},
   "outputs": [
    {
     "data": {
      "text/plain": [
       "['## Example: Visualizing Seattle Bicycle Counts\\n',\n",
       " \"As a more involved example of working with some time series data, let's take a look at bicycle counts\",\n",
       " 'This data comes from an automated bicycle counter, installed in late 2012, which has inductive sensors',\n",
       " 'The hourly bicycle counts can be downloaded from http://data.seattle.gov/; here is the [direct link to',\n",
       " 'the dataset](https://data.seattle.gov/Transportation/Fremont-Bridge-Hourly-Bicycle-Counts-by-Month-Octo']"
      ]
     },
     "execution_count": 106,
     "metadata": {},
     "output_type": "execute_result"
    }
   ],
   "source": [
    "test_cell = ['## Example: Visualizing Seattle Bicycle Counts', \n",
    "             \"As a more involved example of working with some time series data, let's take a look at bicycle counts\", \n",
    "             'This data comes from an automated bicycle counter, installed in late 2012, which has inductive sensors', \n",
    "             'The hourly bicycle counts can be downloaded from http://data.seattle.gov/; here is the [direct link to', \n",
    "             'the dataset](https://data.seattle.gov/Transportation/Fremont-Bridge-Hourly-Bicycle-Counts-by-Month-Octo']\n",
    "\n",
    "def heading_check(cell):\n",
    "    \"\"\" This function will split the heading of the cell with the rest of the text \n",
    "    by adding an '\\n' at the end of the heading, not causing the whole cell to be in \n",
    "    \n",
    "    \"\"\"\n",
    "    if cell[0].startswith('#'):\n",
    "        cell[0]+='\\n'\n",
    "    return cell\n",
    "\n",
    "heading_check(test_cell)"
   ]
  },
  {
   "cell_type": "code",
   "execution_count": 117,
   "metadata": {},
   "outputs": [
    {
     "ename": "NameError",
     "evalue": "name 'file' is not defined",
     "output_type": "error",
     "traceback": [
      "\u001b[1;31m---------------------------------------------------------------------------\u001b[0m",
      "\u001b[1;31mNameError\u001b[0m                                 Traceback (most recent call last)",
      "\u001b[1;32m<ipython-input-117-79ead8df5f1d>\u001b[0m in \u001b[0;36m<module>\u001b[1;34m\u001b[0m\n\u001b[0;32m     26\u001b[0m     \u001b[1;32mreturn\u001b[0m \u001b[0murl\u001b[0m\u001b[1;33m\u001b[0m\u001b[1;33m\u001b[0m\u001b[0m\n\u001b[0;32m     27\u001b[0m \u001b[1;33m\u001b[0m\u001b[0m\n\u001b[1;32m---> 28\u001b[1;33m \u001b[0mlink_to_copy\u001b[0m\u001b[1;33m(\u001b[0m\u001b[0mdshb_folder\u001b[0m\u001b[1;33m,\u001b[0m\u001b[0mfile\u001b[0m\u001b[1;33m,\u001b[0m\u001b[1;36m5\u001b[0m\u001b[1;33m,\u001b[0m\u001b[1;36m6\u001b[0m\u001b[1;33m,\u001b[0m\u001b[1;33m[\u001b[0m\u001b[1;34m'test'\u001b[0m\u001b[1;33m]\u001b[0m\u001b[1;33m,\u001b[0m\u001b[1;34m'markdown'\u001b[0m\u001b[1;33m)\u001b[0m\u001b[1;33m\u001b[0m\u001b[1;33m\u001b[0m\u001b[0m\n\u001b[0m",
      "\u001b[1;31mNameError\u001b[0m: name 'file' is not defined"
     ]
    }
   ],
   "source": [
    "def link_to_copy(folder,file,location,rank,highlight,cell_type):\n",
    "    cwd = os.getcwd()\n",
    "    with open(cwd+'\\\\'+folder+'\\\\'+file,encoding=\"utf8\") as original, open(cwd+'\\\\top_10\\\\rank'+str(rank)+'.ipynb', \"w\") as to:\n",
    "        data = json.load(original)\n",
    "        cells = []\n",
    "\n",
    "        for cell in data['cells']:\n",
    "            if data['cells'].index(cell) == location:\n",
    "                cells.append(input_reference)\n",
    "                if cell_type == 'markdown':\n",
    "                    cells.append(input_highlight(heading_check(highlight)))\n",
    "                else:\n",
    "                    cells.append(cell) \n",
    "            else:\n",
    "                cells.append(cell)\n",
    "\n",
    "\n",
    "        copy = {}\n",
    "        copy['cells'] = cells\n",
    "        copy['metadata'] = data['metadata']\n",
    "        copy['nbformat'] = data['nbformat']\n",
    "        copy['nbformat_minor'] = data['nbformat_minor']\n",
    "\n",
    "        json.dump(copy, to)\n",
    "    url = 'http://localhost:8888/notebooks/Desktop/scriptie/SE1/top_10/rank'+str(rank)+'.ipynb#Answer-here'\n",
    "    return url\n",
    "\n",
    "# link_to_copy(folder,file,5,6,['test'],'markdown')"
   ]
  },
  {
   "cell_type": "code",
   "execution_count": null,
   "metadata": {},
   "outputs": [],
   "source": []
  },
  {
   "cell_type": "code",
   "execution_count": null,
   "metadata": {},
   "outputs": [],
   "source": [
    "# import ipywidgets as widgets\n",
    "\n",
    "# q = {'query': {'multi_match': {'fields': ['string'],\n",
    "#    'query': 'drop'}}}\n",
    "# result = es.search(body=q, size=10)\n",
    "\n",
    "# def print_rows(q):\n",
    "#     result = es.search(body=q, size=10)\n",
    "#     for i in range(len(result['hits']['hits'])): # for all hits\n",
    "#         res = result['hits']['hits'][i]\n",
    "#         print(link_to_copy(folder,res['_source']['file'],res['_source']['file_cell'],i+1))\n",
    "#         print(res['_source']['file'],res['_score'],res['_source']['cell_type'],res['_source']['cell_id'],res['_source']['file_cell'])\n",
    "#         highlight = res['highlight']['string']\n",
    "# #         highlight = widgets.HTML(value=highlight_value,layout=res_layout)\n",
    "#         print(highlight)\n",
    "#         print()\n",
    "#         print()\n",
    "                    \n"
   ]
  },
  {
   "cell_type": "code",
   "execution_count": null,
   "metadata": {},
   "outputs": [],
   "source": [
    "# print_rows(q_test_multimatch)\n"
   ]
  },
  {
   "cell_type": "code",
   "execution_count": 119,
   "metadata": {},
   "outputs": [],
   "source": [
    "query={\n",
    "  \"query\": {\n",
    "    \"match_all\": {}\n",
    "  }\n",
    "} \n",
    "\n",
    "result = es.search(body=query,size=3000)\n",
    "for i in range(len(result['hits']['hits'])): # for all hits\n",
    "    res = result['hits']['hits'][i]\n",
    "#     print(i,res['_source']['cell_id'])\n",
    "\n",
    "cell_id_list = [result['hits']['hits'][i]['_source']['cell_id'] for i in range(len(result['hits']['hits']))]\n",
    "missing_list = [i for i in range(len(cell_df)) if i not in cell_id_list]\n",
    "# missing_list"
   ]
  },
  {
   "cell_type": "code",
   "execution_count": null,
   "metadata": {},
   "outputs": [],
   "source": []
  },
  {
   "cell_type": "code",
   "execution_count": 120,
   "metadata": {},
   "outputs": [],
   "source": [
    "def multi_match_query(string,highlight):\n",
    "    fields = ['string']\n",
    "    query_str = string\n",
    "\n",
    "        \n",
    "    q = {}\n",
    "    query_dict = {}\n",
    "    multi_match = {}\n",
    "    \n",
    "    multi_match['fields'] = fields\n",
    "    multi_match['query'] = query_str\n",
    "    query_dict['multi_match'] = multi_match\n",
    "    q['query'] = query_dict\n",
    "    \n",
    "    if highlight != None:\n",
    "        highlight = {\"pre_tags\":[\"<u><i><b>\"],\n",
    "            \"post_tags\":[\"</b></i></u>\"],\n",
    "            \"fields\":{'string':{}}}\n",
    "        q['highlight'] = highlight\n",
    "    return q\n",
    "\n",
    "# https://www.elastic.co/guide/en/elasticsearch/reference/6.8/search-request-highlighting.html"
   ]
  },
  {
   "cell_type": "code",
   "execution_count": 121,
   "metadata": {},
   "outputs": [
    {
     "data": {
      "text/plain": [
       "{'query': {'multi_match': {'fields': ['string'], 'query': 'bicycle'}},\n",
       " 'highlight': {'pre_tags': ['<u><i><b>'],\n",
       "  'post_tags': ['</b></i></u>'],\n",
       "  'fields': {'string': {}}}}"
      ]
     },
     "execution_count": 121,
     "metadata": {},
     "output_type": "execute_result"
    }
   ],
   "source": [
    "# test\n",
    "q_test_multimatch = multi_match_query('bicycle',True)\n",
    "q_test_multimatch"
   ]
  },
  {
   "cell_type": "code",
   "execution_count": null,
   "metadata": {},
   "outputs": [],
   "source": []
  },
  {
   "cell_type": "markdown",
   "metadata": {},
   "source": [
    "# Search Engine widget"
   ]
  },
  {
   "cell_type": "code",
   "execution_count": 123,
   "metadata": {},
   "outputs": [],
   "source": [
    "# Text \n",
    "normal_text = widgets.Text() #description=\"Search\", continuous_update=True)\n",
    "\n",
    "\n",
    "# Buttons\n",
    "search_b_normal = widgets.Button(description=\"Search\")\n",
    "clear_b = widgets.Button(description=\"Clear\")\n",
    "\n",
    "output = widgets.Output()\n",
    "\n",
    "\n",
    "def on_normal_search_clicked(b):\n",
    "    with output:\n",
    "        output.clear_output()\n",
    "        if normal_text.value == '':\n",
    "            print(\"Type a query\")\n",
    "        else:\n",
    "            display_results(multi_match_query(normal_text.value,True),10)\n",
    "        \n",
    "def on_clear_clicked(b):\n",
    "    with output:\n",
    "        output.clear_output()\n",
    "    normal_text.value = ''\n",
    "    markdown.value = ''\n",
    "    code.value = ''\n",
    "    modules.value = ''\n",
    "\n",
    "        \n",
    "def display_results(query,max_res):\n",
    "    result = es.search(body=query, size=max_res)\n",
    "    for i in range(len(result['hits']['hits'])): # for all hits\n",
    "        res = result['hits']['hits'][i]\n",
    "        \n",
    "        res_layout = widgets.Layout(maring='0px')\n",
    "        \n",
    "        title = widgets.HTML(value='<b>'+res['_source']['file']+'</b>')#,layout=res_layout)\n",
    "        folder = res['_source']['folder']\n",
    "        url_str = link_to_copy(folder,res['_source']['file'],res['_source']['file_cell'],i+1,res['highlight']['string'],res['_source']['cell_type'])\n",
    "        url = widgets.HTML(value='<a href='+url_str + ' target=\"_blank\">' + url_str + '</a>')\n",
    "        score = widgets.HTML(value=str(res['_score']))#,layout=res_layout)\n",
    "        \n",
    "        whole_layout = widgets.Layout(display='flex',\n",
    "                        flex_flow='column',\n",
    "                        align_items='stretch',\n",
    "                        border='grey solid 1px')\n",
    "        \n",
    "        \n",
    "        try:\n",
    "            highlight_list = res['highlight']['string']\n",
    "            highlight_str = ' '.join(highlight_list)\n",
    "            highlight = widgets.HTML(value=str(highlight_list),layout=res_layout)\n",
    "            single_result = widgets.VBox([title,score,url,highlight],layout=whole_layout)\n",
    "#             print(res['highlight'].keys())            \n",
    "#             print(highlight_str)            \n",
    "        except:\n",
    "            single_result = widgets.VBox([title,score,url],layout=whole_layout)\n",
    "        display(single_result)\n"
   ]
  },
  {
   "cell_type": "code",
   "execution_count": 124,
   "metadata": {},
   "outputs": [
    {
     "data": {
      "application/vnd.jupyter.widget-view+json": {
       "model_id": "0df7b31e098947b8b2ffc8bd360aeb1b",
       "version_major": 2,
       "version_minor": 0
      },
      "text/plain": [
       "VBox(children=(HBox(children=(Text(value=''), Button(description='Search', style=ButtonStyle()), Button(descri…"
      ]
     },
     "metadata": {},
     "output_type": "display_data"
    }
   ],
   "source": [
    "search_b_normal.on_click(on_normal_search_clicked)\n",
    "clear_b.on_click(on_clear_clicked)\n",
    "\n",
    "row_normal = widgets.HBox([normal_text,search_b_normal,clear_b])\n",
    "row_output = widgets.VBox([output])\n",
    "\n",
    "normal_text.on_submit(on_normal_search_clicked)\n",
    "\n",
    "search_display = widgets.VBox(children = [row_normal,row_output])\n",
    "display(search_display)"
   ]
  },
  {
   "cell_type": "code",
   "execution_count": null,
   "metadata": {},
   "outputs": [],
   "source": []
  },
  {
   "cell_type": "code",
   "execution_count": null,
   "metadata": {},
   "outputs": [],
   "source": []
  },
  {
   "cell_type": "code",
   "execution_count": null,
   "metadata": {},
   "outputs": [],
   "source": []
  }
 ],
 "metadata": {
  "kernelspec": {
   "display_name": "Python 3",
   "language": "python",
   "name": "python3"
  },
  "language_info": {
   "codemirror_mode": {
    "name": "ipython",
    "version": 3
   },
   "file_extension": ".py",
   "mimetype": "text/x-python",
   "name": "python",
   "nbconvert_exporter": "python",
   "pygments_lexer": "ipython3",
   "version": "3.7.4"
  }
 },
 "nbformat": 4,
 "nbformat_minor": 2
}
