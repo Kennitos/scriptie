{
 "cells": [
  {
   "cell_type": "markdown",
   "metadata": {},
   "source": [
    "# Downloading single files or repositories "
   ]
  },
  {
   "cell_type": "markdown",
   "metadata": {},
   "source": []
  },
  {
   "cell_type": "markdown",
   "metadata": {},
   "source": [
    "### Notes\n",
    "\n",
    "Links:\n",
    "-  \"https://github.com/search?p=1&q=extension%3Aipynb+nbformat_minor&type=Code&utf8=%E2%9C%93\""
   ]
  },
  {
   "cell_type": "markdown",
   "metadata": {},
   "source": [
    "### Import"
   ]
  },
  {
   "cell_type": "code",
   "execution_count": 1,
   "metadata": {},
   "outputs": [],
   "source": [
    "# imports\n",
    "import requests\n",
    "import re\n",
    "import os\n",
    "import json\n",
    "\n",
    "from bs4 import BeautifulSoup\n",
    "from tqdm import tqdm_notebook\n",
    "from git import Repo\n",
    "\n",
    "# import git    # add 'git' module through anaconda navigator + pip install gitpython"
   ]
  },
  {
   "cell_type": "markdown",
   "metadata": {},
   "source": [
    "### Functions"
   ]
  },
  {
   "cell_type": "code",
   "execution_count": 6,
   "metadata": {},
   "outputs": [],
   "source": [
    "def try_link_getter(ul_list):\n",
    "    \"\"\"\n",
    "    Explanation function\n",
    "    \"\"\"\n",
    "    links = []\n",
    "    for ul in ul_list:\n",
    "        for line in ul:\n",
    "            try:\n",
    "                links.append(line.a.get('href'))\n",
    "            except:\n",
    "                pass\n",
    "    return links\n",
    "\n",
    "def download_(url):\n",
    "    \"\"\"\n",
    "    Explanation function\n",
    "    \"\"\"\n",
    "    name = url.split('/')[-1]\n",
    "    r  = requests.get(url)\n",
    "    data = r.text\n",
    "    soup = BeautifulSoup(data)\n",
    "    convert = soup.get_text()\n",
    "    try: \n",
    "        json_data = json.loads(convert)\n",
    "        #json_data = json.loads(convert.replace(\" \",\"\").replace(\"\\n\",\"\"))\n",
    "        cwd = os.getcwd()\n",
    "        with open(cwd+'\\\\single_files\\\\'+name, \"w\") as outfile:\n",
    "            json.dump(json_data,outfile)\n",
    "    except Exception as e:\n",
    "        print(e,url)\n",
    "#         if 'Extra data' in e:\n",
    "#             print(\"404 Page not found: \",url)\n",
    "# #         else:\n",
    "#             print(\"Downloading failed for url: \",url)\n",
    "\n",
    "\n",
    "def nbviewer_to_download(nbviewer):\n",
    "    \"\"\"\n",
    "    Explantion function\n",
    "    \"\"\"\n",
    "    try:\n",
    "        m = re.search(\".org/github\", nbviewer)\n",
    "        if m != None:\n",
    "            prefix = 'https://raw.githubusercontent.com'\n",
    "            download_url = prefix+nbviewer[m.end():].replace('/blob','')\n",
    "            download_(download_url)\n",
    "        elif re.search(\".org/url/\", nbviewer) != None:\n",
    "            m = re.search(\".org/url\", nbviewer)\n",
    "            download_url = 'http://'+nbviewer[m.end()+1:]\n",
    "            download_(download_url)\n",
    "    except Exception as e:\n",
    "        print(e)\n",
    "        print(nbviewer)\n",
    "\n",
    "\n",
    "def clone_repos(repo_name,url,folder):\n",
    "    \"\"\"\n",
    "    Explenation function\n",
    "    \"\"\"\n",
    "    cwd = os.getcwd()\n",
    "    try:\n",
    "        repo_dir = cwd+'\\\\'+folder+'\\\\'+repo_name\n",
    "        correct_url = '/'.join(url.split('/')[:5]) # makes sure it is a url to a repository (not blob/master/readme etc.) \n",
    "        Repo.clone_from(correct_url,repo_dir)\n",
    "    except Exception as e:\n",
    "#         print(e)\n",
    "        print('Failed for:',repo_name,url)"
   ]
  },
  {
   "cell_type": "markdown",
   "metadata": {},
   "source": [
    "### Webscraping <i>A gallery of interesting Jupyter Notebooks</i>"
   ]
  },
  {
   "cell_type": "code",
   "execution_count": 3,
   "metadata": {},
   "outputs": [],
   "source": [
    "url = \"https://github.com/jupyter/jupyter/wiki/A-gallery-of-interesting-Jupyter-Notebooks\"\n",
    "\n",
    "r  = requests.get(url)\n",
    "data = r.text\n",
    "soup = BeautifulSoup(data)"
   ]
  },
  {
   "cell_type": "code",
   "execution_count": 4,
   "metadata": {},
   "outputs": [],
   "source": [
    "body = soup.find_all(\"div\", {\"class\": \"markdown-body\"})[0] # using [0] at the end since there is only 1 result of a div with class 'markdown-body'\n",
    "ul_list = body.find_all('ul')\n",
    "\n",
    "links = try_link_getter(ul_list)\n",
    "github_repos = [link for link in links if 'nbviewer' not in link and 'github.com' in link]\n",
    "github_single_files = [url for url in links if 'nbviewer' in url and 'github' in url]\n",
    "\n",
    "# uitleggen waarom nbviewer.gist exclude from list!!\n",
    "# nbviewer_list = [link for link in links if 'nbviewer' in link]\n",
    "\n",
    "# TEST\n",
    "# len(links),sorted(links)"
   ]
  },
  {
   "cell_type": "markdown",
   "metadata": {},
   "source": [
    "### Downloading single files from url's"
   ]
  },
  {
   "cell_type": "code",
   "execution_count": 5,
   "metadata": {},
   "outputs": [],
   "source": [
    "# create folder in which to put all the files (if it does not exist)\n",
    "if not os.path.exists('single_files'):\n",
    "    os.makedirs('single_files')"
   ]
  },
  {
   "cell_type": "code",
   "execution_count": 6,
   "metadata": {},
   "outputs": [
    {
     "data": {
      "application/vnd.jupyter.widget-view+json": {
       "model_id": "0479fba6e30b4385904c19c7b7f26cc3",
       "version_major": 2,
       "version_minor": 0
      },
      "text/plain": [
       "HBox(children=(IntProgress(value=0, max=129), HTML(value='')))"
      ]
     },
     "metadata": {},
     "output_type": "display_data"
    },
    {
     "name": "stdout",
     "output_type": "stream",
     "text": [
      "Expecting ',' delimiter: line 2901 column 10 (char 1540277) https://raw.githubusercontent.com/jrjohansson/scientific-python-lectures/master/Lecture-4-Matplotlib.ipynb\n",
      "Expecting ',' delimiter: line 298 column 10 (char 22663) https://raw.githubusercontent.com/ganeshutah/Jove/master/notebooks/driver/Drive_Jove_Gallery_Examples.ipynb\n",
      "Extra data: line 1 column 4 (char 3) https://raw.githubusercontent.com/mwaskom/seaborn/master/examples/linear_models.ipynb\n",
      "Extra data: line 1 column 4 (char 3) https://raw.githubusercontent.com/leig/Applied-Predictive-Modeling-with-Python/tree/master/notebooks/\n",
      "Extra data: line 1 column 4 (char 3) https://raw.githubusercontent.com/ledeprogram/courses/tree/master\n",
      "Extra data: line 1 column 4 (char 3) https://raw.githubusercontent.com/thsant/scipy4cv\n",
      "Extra data: line 1 column 4 (char 3) https://raw.githubusercontent.com/apache/incubator-singa/master/doc/en/docs/notebook/index.ipynb\n",
      "Extra data: line 1 column 4 (char 3) https://raw.githubusercontent.com/ketch/HyperPython/tree/master/\n",
      "Expecting ',' delimiter: line 450 column 23 (char 30019) https://raw.githubusercontent.com/maayanlab/Zika-RNAseq-Pipeline/master/Zika.ipynb\n",
      "[Errno 22] Invalid argument: 'C:\\\\Users\\\\kenne\\\\Documents\\\\thesis\\\\single_files\\\\CST_Data_Viz.ipynb?flush_cache=true' https://raw.githubusercontent.com/MaayanLab/CST_Lung_Cancer_Viz/master/notebooks/CST_Data_Viz.ipynb?flush_cache=true\n",
      "Extra data: line 1 column 4 (char 3) https://raw.githubusercontent.com/invisibleroads/crosscompute-tutorials/master/computational-analysis/300%20Count%20graffiti%20sightings%20within%20100%20feet%20of%20a%20subway%20entrance.ipynb\n",
      "Extra data: line 1 column 4 (char 3) https://raw.githubusercontent.com/nealcaren/workshop_2014/tree/master/notebooks/\n",
      "Extra data: line 1 column 4 (char 3) https://raw.githubusercontent.com/plotly/IPython-plotly/master/See%20more/MATLAB_Wrapper_Examples.ipynb\n",
      "Extra data: line 1 column 4 (char 3) https://raw.githubusercontent.com/Arn-O/py-gridmancer/master/gridmancer.ipynb\n",
      "Extra data: line 1 column 4 (char 3) https://raw.githubusercontent.com/CamDavidsonPilon/lifelines/master/docs/Survival%20Analysis%20intro.ipynb\n",
      "Extra data: line 1 column 4 (char 3) https://raw.githubusercontent.com/plotly/IPython-plotly/master/Bubble%20Chart%20Explorer.ipynb\n",
      "Expecting ',' delimiter: line 1374 column 10 (char 45131) https://raw.githubusercontent.com/lalelale/profiles_analysis/master/profiles.ipynb\n",
      "Expecting ',' delimiter: line 220 column 10 (char 11668) https://raw.githubusercontent.com/wtadler/cue-combination-with-neurons/master/neural_cue_combination.ipynb\n",
      "Extra data: line 1 column 4 (char 3) https://raw.githubusercontent.com/GaelVaroquaux/nilearn_course/master/rendered_notebooks/1_Introduction.ipynb\n",
      "Extra data: line 1 column 4 (char 3) https://raw.githubusercontent.com/ogrisel/parallel_ml_tutorial/master/solutions/01%20-%20An%20Introduction%20to%20Predictive%20Modeling%20in%20Python.ipynb\n",
      "Expecting ',' delimiter: line 507 column 9 (char 160174) https://raw.githubusercontent.com/cschin/Write_A_Genome_Assembler_With_IPython/master/Write_An_Assembler.ipynb\n",
      "Extra data: line 1 column 4 (char 3) https://raw.githubusercontent.com/plotly/python-user-guide/master/s3_bubble-charts/s3_bubble-charts.ipynb\n",
      "Extra data: line 1 column 4 (char 3) https://raw.githubusercontent.com/iminuit/iminuit/master/tutorial/tutorial.ipynb\n",
      "Expecting ',' delimiter: line 709 column 11 (char 19008) https://raw.githubusercontent.com/changhiskhan/talks/master/pydata2012/pandas_timeseries.ipynb\n",
      "Extra data: line 1 column 4 (char 3) https://raw.githubusercontent.com/Tanu-N-Prabhu/Python/master/Lists.ipynb\n",
      "[Errno 22] Invalid argument: 'C:\\\\Users\\\\kenne\\\\Documents\\\\thesis\\\\single_files\\\\not_so_obvious_python_stuff.ipynb?create=1' https://raw.githubusercontent.com/rasbt/python_reference/master/tutorials/not_so_obvious_python_stuff.ipynb?create=1\n",
      "Expecting ',' delimiter: line 1863 column 12 (char 44968) https://raw.githubusercontent.com/rasbt/python_reference/master/tutorials/key_differences_between_python_2_and_3.ipynb\n",
      "[Errno 22] Invalid argument: 'C:\\\\Users\\\\kenne\\\\Documents\\\\thesis\\\\single_files\\\\scope_resolution_legb_rule.ipynb?create=1' https://raw.githubusercontent.com/rasbt/python_reference/master/tutorials/scope_resolution_legb_rule.ipynb?create=1\n",
      "Expecting ',' delimiter: line 392 column 23 (char 9461) https://raw.githubusercontent.com/abbas-taher/Montreal-Python-69/master/Montreal%20Python%2069.ipynb\n",
      "Extra data: line 1 column 4 (char 3) https://raw.githubusercontent.com/JuliaOpt/juliaopt-notebooks/tree/master/notebooks/\n",
      "Expecting ',' delimiter: line 442 column 16 (char 37606) https://raw.githubusercontent.com/SciRuby/sciruby-notebooks/master/getting_started.ipynb\n",
      "Expecting ',' delimiter: line 39 column 7 (char 2464) https://raw.githubusercontent.com/zmughal/zmughal-iperl-notebooks/master/IPerl-demos/20150209_IPerl_display_demo.ipynb\n",
      "Extra data: line 654 column 2 (char 137177) https://raw.githubusercontent.com/fperez/blog/master/120907-Blogging%20with%20the%20IPython%20Notebook.ipynb\n",
      "Extra data: line 1 column 4 (char 3) https://raw.githubusercontent.com/plotly/python-user-guide/master/s7_streaming/s7_streaming.ipynb\n",
      "\n"
     ]
    }
   ],
   "source": [
    "# ALL SINGLE GITHUB FILES (NBVIEWER)\n",
    "for url in tqdm_notebook(github_single_files):\n",
    "    nbviewer_to_download(url)\n",
    "    \n",
    "# Extra data: line 1 column 4 (char 3) => blank page with '404: Not Found'\n",
    "\n",
    "# Verbetering zit er geen '.ipynb' in de string dan is er sprake van een repository"
   ]
  },
  {
   "cell_type": "markdown",
   "metadata": {},
   "source": [
    "### Clone repositories from url's"
   ]
  },
  {
   "cell_type": "code",
   "execution_count": 5,
   "metadata": {},
   "outputs": [],
   "source": [
    "# create folder in which to put all the repositories (if it does not exist)\n",
    "if not os.path.exists('repos'):\n",
    "    os.makedirs('repos')"
   ]
  },
  {
   "cell_type": "code",
   "execution_count": 7,
   "metadata": {},
   "outputs": [
    {
     "data": {
      "application/vnd.jupyter.widget-view+json": {
       "model_id": "ed08790b46b04494b08b9b733d2e889f",
       "version_major": 2,
       "version_minor": 0
      },
      "text/plain": [
       "HBox(children=(IntProgress(value=0, max=63), HTML(value='')))"
      ]
     },
     "metadata": {},
     "output_type": "display_data"
    },
    {
     "name": "stdout",
     "output_type": "stream",
     "text": [
      "Failed for: Python https://github.com/Tanu-N-Prabhu/Python/blob/master/Predicting_PewDiePie's_daily_subscribers_using_Machine_Learning_.ipynb\n",
      "http://amueller.github.com/sklearn_tutorial\n",
      "Failed for: Python https://github.com/Tanu-N-Prabhu/Python/blob/master/Pandas/Pandas_DataFrame.ipynb\n",
      "https://github.com/lgiordani\n",
      "Failed for: MetodosNumericosAvanzados https://github.com/dpsanders/MetodosNumericosAvanzados\n",
      "\n"
     ]
    }
   ],
   "source": [
    "# ALL GITHUB REPOS\n",
    "for url in tqdm_notebook(github_repos):\n",
    "    try:\n",
    "        folder_name = url.split('/')[4]\n",
    "        clone_repos(folder_name,url,'repos')\n",
    "    except:\n",
    "        print(url) # one url is not a link to a repository but to the user's page"
   ]
  },
  {
   "cell_type": "code",
   "execution_count": 12,
   "metadata": {},
   "outputs": [
    {
     "data": {
      "text/plain": [
       "['https://github.com/dpsanders/MetodosNumericosAvanzados',\n",
       " 'https://github.com/dpsanders/MetodosNumericosAvanzados']"
      ]
     },
     "execution_count": 12,
     "metadata": {},
     "output_type": "execute_result"
    }
   ],
   "source": [
    "duplicates_repo_url = [repo for repo in github_repos if github_repos.count(repo)>1]\n",
    "duplicates_repo_url"
   ]
  },
  {
   "cell_type": "markdown",
   "metadata": {},
   "source": []
  },
  {
   "cell_type": "code",
   "execution_count": 13,
   "metadata": {},
   "outputs": [
    {
     "data": {
      "text/plain": [
       "(63,\n",
       " ['http://amueller.github.com/sklearn_tutorial',\n",
       "  'https://github.com/BuzzFeedNews/2014-08-st-louis-county-segregation',\n",
       "  'https://github.com/JWarmenhoven/DBDA-python',\n",
       "  'https://github.com/Neuraxio/Kata-Clean-Machine-Learning-From-Dirty-Code',\n",
       "  'https://github.com/Qiskit/qiskit-tutorial/blob/master/index.ipynb',\n",
       "  'https://github.com/ResearchComputing/Meetup-Fall-2013',\n",
       "  'https://github.com/SciRuby/sciruby-notebooks',\n",
       "  'https://github.com/Tanu-N-Prabhu/Python/blob/master/Pandas/Pandas_DataFrame.ipynb',\n",
       "  \"https://github.com/Tanu-N-Prabhu/Python/blob/master/Predicting_PewDiePie's_daily_subscribers_using_Machine_Learning_.ipynb\",\n",
       "  'https://github.com/TomAugspurger/PyDataSeattle',\n",
       "  'https://github.com/agmarrugo/sensors-actuators',\n",
       "  'https://github.com/barbagroup/AeroPython',\n",
       "  'https://github.com/bloomberg/bqplot',\n",
       "  'https://github.com/calebmadrigal/FourierTalkOSCON',\n",
       "  'https://github.com/cfangmeier/Small/blob/9037dbd6d7e5843a60d7a92c6e4a713b3b685a74/Imagination.ipynb',\n",
       "  'https://github.com/colour-science/colour',\n",
       "  'https://github.com/dimgold/ETL_with_Python/blob/master/README.md',\n",
       "  'https://github.com/donnemartin/data-science-ipython-notebooks/blob/master/README.md',\n",
       "  'https://github.com/dpsanders/MetodosNumericosAvanzados',\n",
       "  'https://github.com/dpsanders/MetodosNumericosAvanzados',\n",
       "  'https://github.com/dpsanders/metodos-monte-carlo',\n",
       "  'https://github.com/drvinceknight/Python-Mathematics-Handbook',\n",
       "  'https://github.com/engineersCode/EngComp1_offtheground',\n",
       "  'https://github.com/engineersCode/EngComp2_takeoff',\n",
       "  'https://github.com/engineersCode/EngComp3_tourdynamics',\n",
       "  'https://github.com/fangohr/introduction-to-python-for-computational-science-and-engineering/blob/master/Readme.md',\n",
       "  'https://github.com/fonnesbeck/statistical-analysis-python-tutorial',\n",
       "  'https://github.com/fsprojects/IfSharp',\n",
       "  'https://github.com/groda/big_data/blob/master/README.md',\n",
       "  'https://github.com/gudnm/codekatas',\n",
       "  'https://github.com/guillaume-chevalier/How-to-Grow-Neat-Software-Architecture-out-of-Jupyter-Notebooks',\n",
       "  'https://github.com/guillaume-chevalier/LSTM-Human-Activity-Recognition',\n",
       "  'https://github.com/guillaume-chevalier/filtering-stft-and-laplace-transform',\n",
       "  'https://github.com/guillaume-chevalier/seq2seq-signal-prediction',\n",
       "  'https://github.com/handee/opencv-gettingstarted',\n",
       "  'https://github.com/hugadams/pyuvvis',\n",
       "  'https://github.com/jakevdp/PythonDataScienceHandbook',\n",
       "  'https://github.com/jdwittenauer/ipython-notebooks',\n",
       "  'https://github.com/jeevanjyoti4/elasticity',\n",
       "  'https://github.com/jhroy/theses/blob/master/theses.ipynb',\n",
       "  'https://github.com/jupyter-widgets/tutorial',\n",
       "  'https://github.com/koldunovn/python_for_geosciences',\n",
       "  'https://github.com/lgiordani',\n",
       "  'https://github.com/maitbayev/the-elements-of-statistical-learning',\n",
       "  'https://github.com/mikhailklassen/Mining-the-Social-Web-3rd-Edition',\n",
       "  'https://github.com/mikkokotila/jupyter4kids',\n",
       "  'https://github.com/numerical-mooc/numerical-mooc',\n",
       "  'https://github.com/phelps-sg/python-bigdata/blob/master/README.md',\n",
       "  'https://github.com/rajathkmp/Python-Lectures',\n",
       "  'https://github.com/rasbt/algorithms_in_ipython_notebooks',\n",
       "  'https://github.com/rasbt/pattern_classification',\n",
       "  'https://github.com/rossant/ipython-minibook',\n",
       "  'https://github.com/rsvp/fecon235',\n",
       "  'https://github.com/rugantio/MachineLearningCourse',\n",
       "  'https://github.com/spatialaudio/digital-signal-processing-lecture',\n",
       "  'https://github.com/stevengj/Julia-EuroSciPy14',\n",
       "  'https://github.com/sujitpal/statlearning-notebooks',\n",
       "  'https://github.com/surgesg/PyOracle/blob/master/270D.ipynb',\n",
       "  'https://github.com/thomas-haslwanter/statsintro_python',\n",
       "  'https://github.com/tiagoantao/bioinf-python/blob/master/notebooks/Welcome.ipynb',\n",
       "  'https://github.com/trekhleb/machine-learning-experiments',\n",
       "  'https://github.com/xamarin/Workbooks',\n",
       "  'https://github.com/yoavram/CS1001.py'])"
      ]
     },
     "execution_count": 13,
     "metadata": {},
     "output_type": "execute_result"
    }
   ],
   "source": [
    "len(github_repos),sorted(github_repos)"
   ]
  }
 ],
 "metadata": {
  "kernelspec": {
   "display_name": "Python 3",
   "language": "python",
   "name": "python3"
  },
  "language_info": {
   "codemirror_mode": {
    "name": "ipython",
    "version": 3
   },
   "file_extension": ".py",
   "mimetype": "text/x-python",
   "name": "python",
   "nbconvert_exporter": "python",
   "pygments_lexer": "ipython3",
   "version": "3.7.4"
  }
 },
 "nbformat": 4,
 "nbformat_minor": 2
}
